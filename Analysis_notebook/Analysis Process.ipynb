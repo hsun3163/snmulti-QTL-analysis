{
 "cells": [
  {
   "cell_type": "markdown",
   "id": "b9f8f742-3550-45b7-8273-0b527824f319",
   "metadata": {},
   "source": []
  },
  {
   "cell_type": "markdown",
   "id": "bfe01c05-ab2a-4042-b6ed-66eeca3b2403",
   "metadata": {},
   "source": [
    "# Analysis procedure for snmulti-QTL"
   ]
  },
  {
   "cell_type": "markdown",
   "id": "b3eb7393-7670-4bae-98ef-89687e8a2003",
   "metadata": {},
   "source": [
    "## Get reference data (Optional)\n",
    "Download the reference data needed. In fact this step is not necessary, the reference data can be downloaded by ` synapse get -r syn36416587 `"
   ]
  },
  {
   "cell_type": "code",
   "execution_count": null,
   "id": "a2fd7d5a-f3e6-4ef9-9cd9-3749c2a0e320",
   "metadata": {},
   "outputs": [],
   "source": [
    "nohup sos run pipeline/reference_data.ipynb download_hg_reference --cwd ../input/reference_data &\n",
    "nohup sos run pipeline/reference_data.ipynb download_gene_annotation --cwd ../input/reference_data &\n",
    "nohup sos run pipeline/reference_data.ipynb download_ercc_reference --cwd ../input/reference_data &\n",
    "nohup sos run pipeline/reference_data.ipynb download_dbsnp --cwd ../input/reference_data &"
   ]
  },
  {
   "cell_type": "code",
   "execution_count": 19,
   "id": "a6c89da2-bc36-4fe0-9ee5-2b3c6ab91f26",
   "metadata": {
    "scrolled": true
   },
   "outputs": [
    {
     "name": "stdout",
     "output_type": "stream",
     "text": [
      "[1] 47287\n"
     ]
    },
    {
     "ename": "",
     "evalue": "1",
     "output_type": "error",
     "traceback": []
    }
   ],
   "source": [
    "cd /sc/arion/projects/CommonMind/roussp01a/snmulti_QTL/working\n",
    "nohup sos run pipeline/reference_data.ipynb hg_reference \\\n",
    "    --cwd ../input/reference_data \\\n",
    "    --ercc-reference ../input/reference_data/ERCC92.fa \\\n",
    "    --hg-reference ../input/reference_data/GRCh38_full_analysis_set_plus_decoy_hla.fa \\\n",
    "    --container ../xqtl-pipeline-container/rna_quantification.sif    &"
   ]
  },
  {
   "cell_type": "code",
   "execution_count": 22,
   "id": "e916e638-a08c-4010-9ef6-fc26e255a3d5",
   "metadata": {},
   "outputs": [
    {
     "name": "stdout",
     "output_type": "stream",
     "text": [
      "[1] 47352\n"
     ]
    },
    {
     "ename": "",
     "evalue": "1",
     "output_type": "error",
     "traceback": []
    }
   ],
   "source": [
    "nohup sos run pipeline/reference_data.ipynb hg_gtf \\\n",
    "    --cwd ../input/reference_data \\\n",
    "    --hg-gtf ../input/reference_data/Homo_sapiens.GRCh38.103.chr.gtf \\\n",
    "    --hg-reference ../input/reference_data/GRCh38_full_analysis_set_plus_decoy_hla.noALT_noHLA_noDecoy.fasta \\\n",
    "    --container ../xqtl-pipeline-container/rna_quantification.sif   --stranded -s build  &"
   ]
  },
  {
   "cell_type": "markdown",
   "id": "cc66efcf-7442-4268-ae62-cd67b282d39b",
   "metadata": {},
   "source": [
    "## Archived: Gene exp matrix generation\n",
    "This is to process the count matrix. This step is replaced by the SE_qc step via dreamlet below"
   ]
  },
  {
   "cell_type": "code",
   "execution_count": null,
   "id": "dd2fbd23-cdf8-4e04-af1a-b163a4e8b7fb",
   "metadata": {},
   "outputs": [],
   "source": [
    "cd /sc/arion/projects/CommonMind/roussp01a/snmulti_QTL/working\n",
    "nohup sos run pipeline/pseudobulk_expression_QC_and_normalization.ipynb \\\n",
    "    --phenoFile  ~/snmulti_QTL/input/gene_exp/*.count_matrix \\\n",
    "    --cwd ~/snmulti_QTL/output/molecular_phenotype/gene_exp/ \\\n",
    "    --BrainRegionList  /hpc/users/sunh14/snmulti_QTL/input/BrainRegionList\" \\\n",
    "    -J 40 -q premium -c ~/minerva.yml  -s force &"
   ]
  },
  {
   "cell_type": "code",
   "execution_count": null,
   "id": "afa3b9e9-ca71-4ce9-bffe-777153c0e519",
   "metadata": {},
   "outputs": [],
   "source": [
    "nohup sos run pipeline/pseudobulk_expression_QC_and_normalization.ipynb \\\n",
    "    --phenoFile  ~/snmulti_QTL/input/gene_exp/*.count_matrix \\\n",
    "    --cwd ~/snmulti_QTL/output/molecular_phenotype/gene_exp/ \\\n",
    "    --BrainRegionList  /hpc/users/sunh14/snmulti_QTL/input/BrainRegionList\" \\\n",
    "    -J 40 -q premium -c ~/minerva.yml  -s force &"
   ]
  },
  {
   "cell_type": "code",
   "execution_count": 25,
   "id": "4eace725-2e24-4631-8acb-99b4d95758de",
   "metadata": {},
   "outputs": [
    {
     "name": "stdout",
     "output_type": "stream",
     "text": [
      "[1] 82193\n"
     ]
    }
   ],
   "source": [
    "sos run pipeline/pseudobulk_expression_QC_and_normalization.ipynb \\\n",
    "    --phenoFile  ~/snmulti_QTL/input/gene_exp/*.count_matrix \\\n",
    "    --cwd ~/snmulti_QTL/output/molecular_phenotype/gene_exp/ \\\n",
    "    --BrainRegionList  /hpc/users/sunh14/snmulti_QTL/input/BrainRegionList \\\n",
    "    -J 40 -q premium -c ~/minerva.yml  -s force &"
   ]
  },
  {
   "cell_type": "markdown",
   "id": "76f23c33-c8c0-40ad-8450-60dfdabbf01f",
   "metadata": {},
   "source": [
    "## Gene exp matrix generation via dreamlet"
   ]
  },
  {
   "cell_type": "markdown",
   "id": "2c9e1d20-a7c9-45f7-ab4c-ab8866803c87",
   "metadata": {},
   "source": [
    "From get the pseudobulk count matrix from the `SingleCellExperiment` R data object and extract the count table for each brain region and celltypes"
   ]
  },
  {
   "cell_type": "code",
   "execution_count": 230,
   "id": "b159b943-6285-4f3f-b3e0-539bb848158f",
   "metadata": {},
   "outputs": [
    {
     "name": "stdout",
     "output_type": "stream",
     "text": [
      "[3] 90174\n"
     ]
    },
    {
     "ename": "",
     "evalue": "1",
     "output_type": "error",
     "traceback": []
    }
   ],
   "source": [
    "cd /sc/arion/projects/CommonMind/roussp01a/snmulti_QTL/working\n",
    "nohup sos run pipeline/pseudobulk_expression_QC_and_normalization.ipynb SE_qc \\\n",
    "    --phenoFile  /sc/arion/projects/CommonMind/roussp01a/snmulti/step3/files/pb4dreamlet_wnn_celltype.Rdata \\\n",
    "    --cwd ~/snmulti_QTL/output/molecular_phenotype/gene_exp_dreamlet/ \\\n",
    "    --celltypes ../Analysis_notebook/Celltypes.tsv --container container/panos.sif --entrypoint \"\" \\\n",
    "    --BrainRegionList  ../Analysis_notebook/BrainRegion  -s force &"
   ]
  },
  {
   "cell_type": "code",
   "execution_count": 1,
   "id": "602a06e9-72a3-4513-ad06-d03225429eaf",
   "metadata": {},
   "outputs": [
    {
     "name": "stdout",
     "output_type": "stream",
     "text": [
      "region\n",
      "EC\n",
      "PFC\n",
      "STG\n"
     ]
    }
   ],
   "source": [
    "head ../Analysis_notebook/BrainRegion"
   ]
  },
  {
   "cell_type": "code",
   "execution_count": 2,
   "id": "cacdd464-b28f-4ab9-808d-df991ac27f0b",
   "metadata": {
    "scrolled": true
   },
   "outputs": [
    {
     "name": "stdout",
     "output_type": "stream",
     "text": [
      "Cellltypes\n",
      "Astro\n",
      "Endo\n",
      "EN_L2_3|3_5_IT_mixture\n",
      "EN_L2_3_IT_1\n",
      "EN_L2_3_IT_2\n",
      "EN_L3_5_IT_1\n",
      "EN_L3_5_IT_2\n",
      "EN_L3_5_IT_3\n",
      "EN_L3_5_IT_4\n"
     ]
    }
   ],
   "source": [
    "head ../Analysis_notebook/Celltypes.tsv"
   ]
  },
  {
   "cell_type": "markdown",
   "id": "6c09c353-ccc0-4122-b62f-5fed8761c91f",
   "metadata": {},
   "source": [
    "## ATAC-Seq matrix generation via dreamlet"
   ]
  },
  {
   "cell_type": "code",
   "execution_count": 335,
   "id": "f812a23b-a6c9-4519-a9ef-c60720a1cda3",
   "metadata": {},
   "outputs": [
    {
     "name": "stdout",
     "output_type": "stream",
     "text": [
      "[1] 2867\n"
     ]
    },
    {
     "ename": "",
     "evalue": "1",
     "output_type": "error",
     "traceback": []
    }
   ],
   "source": [
    "cd /sc/arion/projects/CommonMind/roussp01a/snmulti_QTL/working\n",
    "nohup sos run pipeline/pseudobulk_expression_QC_and_normalization.ipynb SE_qc \\\n",
    "    --phenoFile  /sc/arion/projects/CommonMind/roussp01a/snmulti/step3/files/ArchR/save3/pb4dreamlet_subclass_ATAC.Rdata \\\n",
    "    --cwd ~/snmulti_QTL/output/molecular_phenotype/ATAC_dreamlet/ \\\n",
    "    --celltypes ../Analysis_notebook/Celltypes.tsv --container container/panos.sif --entrypoint \"\" \\\n",
    "    --BrainRegionList  ../Analysis_notebook/BrainRegion  -s force  -J 90 -q premium -c ~/minerva.yml --mem 60G &  "
   ]
  },
  {
   "cell_type": "markdown",
   "id": "f4e34185-677b-4958-b591-c7684e5e47a3",
   "metadata": {},
   "source": [
    "## Genotype "
   ]
  },
  {
   "cell_type": "markdown",
   "id": "8d1b6f0f-4574-4537-840c-bcafcbedf6d3",
   "metadata": {},
   "source": [
    "### Extract samples from the two VCF\n",
    "See the Genotype.ipynb. 8 samples are from ADSP and 240 samples from PsychAD. Extract them for merging"
   ]
  },
  {
   "cell_type": "code",
   "execution_count": 3,
   "id": "81049a5e-f249-4b30-ba03-662a6d7c3a20",
   "metadata": {},
   "outputs": [
    {
     "name": "stdout",
     "output_type": "stream",
     "text": [
      "[1] 83666\n"
     ]
    },
    {
     "ename": "",
     "evalue": "1",
     "output_type": "error",
     "traceback": []
    }
   ],
   "source": [
    "nohup bcftools view -S ../input/snmulti_QTL_sample_list  \\\n",
    "/sc/arion/projects/roussp01a/deepika/merging_psychAD_SNParray_WGS/common_variants_psychAD/psychAD_merged_common_variants_MSSM_CMC_HBCC_RUSH_ADSP_chr1to22.vcf.gz  \\\n",
    "-Oz -o ../input/psychAD_merged_common_variants_MSSM_CMC_HBCC_RUSH_ADSP_chr1to22_analysis.vcf.gz --force-samples &\n"
   ]
  },
  {
   "cell_type": "code",
   "execution_count": 8,
   "id": "abe5f78e-d48b-4757-8b62-e4e788b54c80",
   "metadata": {},
   "outputs": [],
   "source": []
  },
  {
   "cell_type": "code",
   "execution_count": 65,
   "id": "c973280a-9e6d-4f13-8435-0861080a4b1c",
   "metadata": {},
   "outputs": [
    {
     "name": "stdout",
     "output_type": "stream",
     "text": [
      "[1] 74854\n"
     ]
    },
    {
     "ename": "",
     "evalue": "1",
     "output_type": "error",
     "traceback": []
    }
   ],
   "source": [
    "nohup bcftools view -S ../input/snmulti_QTL_sample_list_adsp  \\\n",
    "/sc/arion/projects/psychAD/genotypes/ADSP/vcfs/gcad.preview.compact_filtered.r3.wgs.16906.GATK.2020.05.26.biallelic.genotypes.ALL.vcf.gz \\\n",
    "-Oz -o ../input/gcad.preview.compact_filtered.r3.wgs.16906.GATK.2020.05.26.biallelic.genotypes.analysis.vcf.gz --force-samples &"
   ]
  },
  {
   "cell_type": "markdown",
   "id": "d7afb588-5ea9-438b-ba81-18b3fbce208b",
   "metadata": {},
   "source": [
    "## VCF QC "
   ]
  },
  {
   "cell_type": "code",
   "execution_count": null,
   "id": "b9b1c710-1593-41ea-a69b-e0e2eec3fa50",
   "metadata": {},
   "outputs": [],
   "source": []
  },
  {
   "cell_type": "code",
   "execution_count": 5,
   "id": "3a436241-bfb1-4adf-b0d6-a4ec09b9fe06",
   "metadata": {},
   "outputs": [
    {
     "name": "stdout",
     "output_type": "stream",
     "text": [
      "[1] 73379\n"
     ]
    },
    {
     "ename": "",
     "evalue": "1",
     "output_type": "error",
     "traceback": []
    }
   ],
   "source": [
    "cd /sc/arion/projects/CommonMind/roussp01a/snmulti_QTL/working\n",
    "nohup sos run  pipeline/VCF_QC.ipynb qc \\\n",
    "    --genoFile ../input/snmulti_QTL_analysis_psychAD_ADSP.vcf \\\n",
    "    --dbsnp-variants ../input//reference_data/00-All.add_chr.variants.gz  \\\n",
    "    --cwd ~/snmulti_QTL/output/Genotype/ \\\n",
    "    --reference_genome ../input/reference_data/GRCh38_full_analysis_set_plus_decoy_hla.noALT_noHLA_noDecoy.fasta \\\n",
    "    --container ../xqtl-pipeline-container/bioinfo.sif -J 1 -q premium -c ~/minerva.yml --mem 120G &"
   ]
  },
  {
   "cell_type": "markdown",
   "id": "3a70c31b-941d-4f7a-98c1-878560622d51",
   "metadata": {},
   "source": [
    "\n",
    "The psych AD genotype only has 19141160 variants. Most of the snp in the input vcf came from the ADSP samples which has 0.1 billion snps but only 8 samples. That is why after variant level QC, the remaining snp is relatively small.\n",
    "```\n",
    "bcftools view -H psychAD_merged_common_variants_MSSM_CMC_HBCC_RUSH_ADSP_chr1to22_analysis.vcf.gz | wc -l &\n",
    "(py3.11) [sunh14@lc03e08 input]$ 19141160\n",
    "```"
   ]
  },
  {
   "cell_type": "code",
   "execution_count": 89,
   "id": "9d93b63f-d999-4d01-a548-9756ebaef2a0",
   "metadata": {},
   "outputs": [
    {
     "name": "stdout",
     "output_type": "stream",
     "text": [
      "output_info: /hpc/users/sunh14/snmulti_QTL/output/Genotype/snmulti_QTL_analysis_psychAD_ADSP.leftnorm.bcftools_qc.vcf.gz\n",
      "output_size: 5.3G\n",
      "output_rows: 15881136\n",
      "output_column: 257\n",
      "output_header_row: 3510\n",
      "output_preview:\n",
      "#CHROM\tPOS\tID\tREF\tALT\tQUAL\tFILTER\tINFO\tFORMAT\tG-MSBB-MB000040-BR-MSBB-70659\t207822\n",
      "chr1\t779825\tchr1:779825:C:G\tC\tG\t503500\tPASS\tori_AN=33812;BaseQRankSum=0;DB;ori_DP=638078;ExcessHet=0.0002;FS=0;InbreedingCoeff=0.0339;MQ=58.95;MQRankSum=0;NEGATIVE_TRAIN_SITE;POSITIVE_TRAIN_SITE;QD=13.84;ReadPosRankSum=0.016;SOR=0.643;VQSLOD=0.185;culprit=MQ;MAF=0.0181452;R2=0.37856;IMPUTED;DP=1226211;AF=0.0181452;ori_AC=875;ori_AF=0.025;MLEAC=892;MLEAF=0.025;AN=496;AC=9;F_MISSING=0;VD=0;NS=248;AC_Het=5;AC_Hom=4;AC_Hemi=0;HWE=0.00152798;ExcHet=0.99999;RSID=rs141090730\tGT:AD:DP:GQ:PL:DS:HDS:GP\t0/0:.:.:.:.:.:.:.\t0|0:.:.:.:.:0:0,0:1,0,0\n",
      "chr1\t779929\tchr1:779929:AG:A\tAG\tA\t83161.4\tPASS\tori_AN=33812;BaseQRankSum=0;DB;ori_DP=633555;ExcessHet=4.0759;FS=0;InbreedingCoeff=-0.0037;MQ=59.22;MQRankSum=0;POSITIVE_TRAIN_SITE;QD=16.69;ReadPosRankSum=-0.025;SOR=0.69;VQSLOD=7.67;culprit=MQ;MAF=0.0120968;R2=0.68691;IMPUTED;MAF_SAMN10492695=0.00374505370265687;MAF_SAMN10492696=0;MAF_SAMN10492697=0;MAF_SAMN10492698=0.000359195402298851;MAF_SAMN10492699=0;MAF_SAMN10492700=0.00163934426229508;MAF_SAMN10492701=0;MAF_SAMN10492702=0;MAF_SAMN10492703=0.000345065562456867;MAF_SAMN10492704=0;MAF_SAMN11605645=0.00396825396825397;MAF_SAMN10492705=0.00307775377969762;DP=1217635;AF=0.0120968;ori_AC=126;ori_AF=0.003704;MLEAC=131;MLEAF=0.003704;AN=496;AC=6;F_MISSING=0;VD=0;NS=248;AC_Het=6;AC_Hom=0;AC_Hemi=0;HWE=1;ExcHet=0.969881;RSID=rs367587346\tGT:AD:DP:GQ:PL:DS:HDS:GP\t0/0:.:.:.:.:.:.:.\t0|0:.:.:.:.:0:0,0:1,0,0\n",
      "chr1\t782207\tchr1:782207:G:A\tG\tA\t351340\tPASS\tori_AN=33812;BaseQRankSum=0;DB;ori_DP=620304;ExcessHet=0.0905;FS=0.516;InbreedingCoeff=0.0169;MQ=58.06;MQRankSum=-0.358;NEGATIVE_TRAIN_SITE;POSITIVE_TRAIN_SITE;QD=13.59;ReadPosRankSum=-0.042;SOR=0.748;VQSLOD=0.988;culprit=MQRankSum;MAF=0.0645161;R2=0.77062;IMPUTED;DP=1191533;AF=0.0645161;ori_AC=650;ori_AF=0.019;MLEAC=673;MLEAF=0.019;AN=496;AC=32;F_MISSING=0;VD=0;NS=248;AC_Het=28;AC_Hom=4;AC_Hemi=0;HWE=0.263977;ExcHet=0.931846;RSID=rs144155419\tGT:AD:DP:GQ:PL:DS:HDS:GP\t0/0:.:.:.:.:.:.:.\t0|0:.:.:.:.:0:0,0:1,0,0\n",
      "chr1\t787965\tchr1:787965:A:C\tA\tC\t17776.8\tPASS\tori_AN=33812;BaseQRankSum=0;ori_DP=628304;ExcessHet=3.0922;FS=1.745;InbreedingCoeff=-0.0011;MQ=59.32;MQRankSum=0;NEGATIVE_TRAIN_SITE;QD=12.44;ReadPosRankSum=0.19;SOR=0.566;VQSLOD=-1.674;culprit=MQ;MAF=0.00604839;R2=0.6963;IMPUTED;MAF_SAMN10492695=0.00111997760044799;MAF_SAMN10492696=0;MAF_SAMN10492697=0;MAF_SAMN10492698=0.000706214689265537;MAF_SAMN10492699=0;MAF_SAMN10492700=0;MAF_SAMN10492701=0;MAF_SAMN10492702=0.0102040816326531;MAF_SAMN10492703=0.000678886625933469;MAF_SAMN10492704=0;MAF_SAMN11605645=0;MAF_SAMN10492705=0.00100582318687136;DP=1208799;AF=0.00604839;ori_AC=36;ori_AF=0.001046;MLEAC=37;MLEAF=0.001046;AN=496;AC=3;F_MISSING=0;VD=0;NS=248;AC_Het=3;AC_Hom=0;AC_Hemi=0;HWE=1;ExcHet=0.993939;RSID=rs546176432\tGT:AD:DP:GQ:PL:DS:HDS:GP\t0/0:.:.:.:.:.:.:.\t0|0:.:.:.:.:0:0,0:1,0,0\n",
      "chr1\t793571\tchr1:793571:C:T\tC\tT\t578212\tPASS\tori_AN=33812;BaseQRankSum=1.27;DB;ori_DP=628713;ExcessHet=0;FS=0;InbreedingCoeff=0.1049;MQ=57.03;MQRankSum=-0.015;NEGATIVE_TRAIN_SITE;POSITIVE_TRAIN_SITE;QD=14.79;ReadPosRankSum=0.019;SOR=0.705;VQSLOD=1.72;culprit=MQRankSum;MAF=0.0302419;R2=0.35291;IMPUTED;MAF_SAMN10492695=0.000508957654723127;MAF_SAMN10492696=0.184210526315789;MAF_SAMN10492697=0;MAF_SAMN10492698=0.124646892655367;MAF_SAMN10492699=0.0342465753424658;MAF_SAMN10492700=0.0131147540983607;MAF_SAMN10492701=0;MAF_SAMN10492702=0;MAF_SAMN10492703=0.126951799049559;MAF_SAMN10492704=0;MAF_SAMN11605645=0.033625730994152;MAF_SAMN10492705=0.0287794729542302;DP=1208183;AF=0.0302419;ori_AC=1060;ori_AF=0.03;MLEAC=1073;MLEAF=0.03;AN=496;AC=15;F_MISSING=0;VD=0;NS=248;AC_Het=11;AC_Hom=4;AC_Hemi=0;HWE=0.0155615;ExcHet=0.999407;RSID=rs11240767\tGT:AD:DP:GQ:PL:DS:HDS:GP\t1/1:.:.:.:.:.:.:.\t0|0:.:.:.:.:0:0,0:1,0,0\n",
      "chr1\t800177\tchr1:800177:GT:G\tGT\tG\t175146\tPASS\tori_AN=33808;BaseQRankSum=0;ori_DP=498609;ExcessHet=0.0027;FS=13.035;InbreedingCoeff=0.0283;MQ=38.24;MQRankSum=-0.657;QD=12.95;ReadPosRankSum=0.185;SOR=1.473;VQSLOD=-2.988;culprit=FS;NEGATIVE_TRAIN_SITE;MAF=0.0181452;R2=0.35413;IMPUTED;MAF_SAMN10492695=0;MAF_SAMN10492696=0.0462962962962963;MAF_SAMN10492697=0;MAF_SAMN10492698=0.0683161004431315;MAF_SAMN10492699=0.0410958904109589;MAF_SAMN10492700=0.00327868852459016;MAF_SAMN10492701=0;MAF_SAMN10492702=0;MAF_SAMN10492703=0.0674715909090909;MAF_SAMN10492704=0;MAF_SAMN11605645=0.0297872340425532;MAF_SAMN10492705=0.0178721969313775;DP=952597;AF=0.0181452;ori_AC=525;ori_AF=0.015;MLEAC=540;MLEAF=0.015;AN=496;AC=9;F_MISSING=0;VD=0;NS=248;AC_Het=9;AC_Hom=0;AC_Hemi=0;HWE=1;ExcHet=0.928811;RSID=rs569779319\tGT:AD:DP:GQ:PL:DS:HDS:GP\t0/0:.:.:.:.:.:.:.\t0|0:.:.:.:.:0:0,0:1,0,0\n",
      "chr1\t801327\tchr1:801327:GTAAA:G\tGTAAA\tG\t72814.6\tPASS\tori_AN=33812;BaseQRankSum=0;ori_DP=564106;ExcessHet=3.9501;FS=0;InbreedingCoeff=-0.0035;MQ=48.32;MQRankSum=-0.59;NEGATIVE_TRAIN_SITE;QD=17.82;ReadPosRankSum=0.155;SOR=0.697;VQSLOD=-1.028;culprit=MQ;MAF=0.00201613;R2=0.3655;IMPUTED;MAF_SAMN10492695=0.000206398348813209;MAF_SAMN10492696=0.0087719298245614;MAF_SAMN10492697=0;MAF_SAMN10492698=0.0140086206896552;MAF_SAMN10492699=0;MAF_SAMN10492700=0.00163934426229508;MAF_SAMN10492701=0;MAF_SAMN10492702=0;MAF_SAMN10492703=0.0138026224982747;MAF_SAMN10492704=0;MAF_SAMN11605645=0.00403225806451613;MAF_SAMN10492705=0.00320284697508897;DP=1080891;AF=0.00201613;ori_AC=119;ori_AF=0.003506;MLEAC=124;MLEAF=0.003506;AN=496;AC=1;F_MISSING=0;VD=0;NS=248;AC_Het=1;AC_Hom=0;AC_Hemi=0;HWE=1;ExcHet=1;RSID=rs537228283\tGT:AD:DP:GQ:PL:DS:HDS:GP\t0/0:.:.:.:.:.:.:.\t0|0:.:.:.:.:0:0,0:1,0,0\n",
      "chr1\t805036\tchr1:805036:A:G\tA\tG\t957682\tPASS\tori_AN=33812;BaseQRankSum=0;DB;ori_DP=620289;ExcessHet=0;FS=0;InbreedingCoeff=0.1391;MQ=51.23;MQRankSum=-0.818;POSITIVE_TRAIN_SITE;QD=15.08;ReadPosRankSum=0.058;SOR=0.706;VQSLOD=-1.499;culprit=MQ;MAF=0.0584677;R2=0.36506;IMPUTED;MAF_SAMN10492695=0.000712540716612378;MAF_SAMN10492696=0.289473684210526;MAF_SAMN10492697=0;MAF_SAMN10492698=0.215748587570621;MAF_SAMN10492699=0.0753424657534247;MAF_SAMN10492700=0.0180327868852459;MAF_SAMN10492701=0;MAF_SAMN10492702=0;MAF_SAMN10492703=0.218601493550577;MAF_SAMN10492704=0;MAF_SAMN11605645=0.0555555555555556;MAF_SAMN10492705=0.0493065187239945;DP=1192062;AF=0.0584677;ori_AC=1841;ori_AF=0.053;MLEAC=1873;MLEAF=0.053;AN=496;AC=29;F_MISSING=0;VD=0;NS=248;AC_Het=19;AC_Hom=10;AC_Hemi=0;HWE=0.000490522;ExcHet=0.99997;RSID=rs11488376\tGT:AD:DP:GQ:PL:DS:HDS:GP\t1/1:.:.:.:.:.:.:.\t0|0:.:.:.:.:0:0,0:1,0,0\n",
      "chr1\t805477\tchr1:805477:G:A\tG\tA\t733057\tPASS\tori_AN=33812;BaseQRankSum=1.05;DB;ori_DP=627182;ExcessHet=-0;FS=0;InbreedingCoeff=0.1111;MQ=57.71;MQRankSum=0.115;NEGATIVE_TRAIN_SITE;POSITIVE_TRAIN_SITE;QD=14.59;ReadPosRankSum=-0.043;SOR=0.692;VQSLOD=1.83;culprit=MQRankSum;MAF=0.0403226;R2=0.35746;IMPUTED;DP=1204722;AF=0.0403226;ori_AC=1376;ori_AF=0.039;MLEAC=1396;MLEAF=0.039;AN=496;AC=20;F_MISSING=0;VD=0;NS=248;AC_Het=12;AC_Hom=8;AC_Hemi=0;HWE=0.000202199;ExcHet=0.999994;RSID=rs12082473\tGT:AD:DP:GQ:PL:DS:HDS:GP\t1/1:.:.:.:.:.:.:.\t0|0:.:.:.:.:0:0,0:1,0,0\n"
     ]
    }
   ],
   "source": [
    "cat  /sc/arion/projects/CommonMind/roussp01a/snmulti_QTL/output/Genotype/snmulti_QTL_analysis_psychAD_ADSP.leftnorm.bcftools_qc.vcf.stdout"
   ]
  },
  {
   "cell_type": "markdown",
   "id": "398df287-418d-48e1-84cc-4eff3663fa60",
   "metadata": {},
   "source": [
    "### VCF to Plink"
   ]
  },
  {
   "cell_type": "code",
   "execution_count": 116,
   "id": "d21ae85b-c5da-4dd6-8290-194ff57806ba",
   "metadata": {},
   "outputs": [
    {
     "name": "stdout",
     "output_type": "stream",
     "text": [
      "[2] 272135\n"
     ]
    },
    {
     "ename": "",
     "evalue": "1",
     "output_type": "error",
     "traceback": []
    }
   ],
   "source": [
    "nohup sos run pipeline/genotype_formatting.ipynb vcf_to_plink \\\n",
    "    --genoFile ../output/Genotype/snmulti_QTL_analysis_psychAD_ADSP.leftnorm.bcftools_qc.vcf.gz \\\n",
    "    --cwd ~/snmulti_QTL/output/Genotype/ \\\n",
    "    --container ../xqtl-pipeline-container/bioinfo.sif &"
   ]
  },
  {
   "cell_type": "code",
   "execution_count": 300,
   "id": "43446a8a-cd03-44bb-9910-89a5ed48edbb",
   "metadata": {},
   "outputs": [
    {
     "name": "stdout",
     "output_type": "stream",
     "text": [
      "PLINK v2.00a3.7LM 64-bit Intel (24 Oct 2022)\n",
      "Options in effect:\n",
      "  --bfile /hpc/users/sunh14/snmulti_QTL/output/Genotype/snmulti_QTL_analysis_psychAD_ADSP.leftnorm.bcftools_qc\n",
      "  --geno 0.1\n",
      "  --hwe 1e-08\n",
      "  --mac 5.0\n",
      "  --make-bed\n",
      "  --memory 14400.0\n",
      "  --mind 0.1\n",
      "  --new-id-max-allele-len 1000\n",
      "  --out /hpc/users/sunh14/snmulti_QTL/output/Genotype/snmulti_QTL_analysis_psychAD_ADSP.leftnorm.bcftools_qc.plink_qc\n",
      "  --set-all-var-ids chr@:#_$r_$a\n",
      "  --threads 20\n",
      "\n",
      "Hostname: lc03e08\n",
      "Working directory: /sc/arion/projects/CommonMind/roussp01a/snmulti_QTL/working\n",
      "Start time: Wed Dec 13 13:38:25 2023\n",
      "\n",
      "Random number seed: 1702492705\n",
      "192949 MiB RAM detected; reserving 14400 MiB for main workspace.\n",
      "Using up to 20 threads (change this with --threads).\n",
      "248 samples (0 females, 0 males, 248 ambiguous; 248 founders) loaded from\n",
      "/hpc/users/sunh14/snmulti_QTL/output/Genotype/snmulti_QTL_analysis_psychAD_ADSP.leftnorm.bcftools_qc.fam.\n",
      "15877625 variants loaded from\n",
      "/hpc/users/sunh14/snmulti_QTL/output/Genotype/snmulti_QTL_analysis_psychAD_ADSP.leftnorm.bcftools_qc.bim.\n",
      "Note: No phenotype data present.\n",
      "Calculating sample missingness rates... done.\n",
      "0 samples removed due to missing genotype data (--mind).\n",
      "248 samples (0 females, 0 males, 248 ambiguous; 248 founders) remaining after\n",
      "main filters.\n",
      "Calculating allele frequencies... done.\n",
      "--geno: 22355 variants removed due to missing genotype data.\n",
      "--hwe: 3106 variants removed due to Hardy-Weinberg exact test (founders only).\n",
      "6453482 variants removed due to allele frequency threshold(s)\n",
      "(--maf/--max-maf/--mac/--max-mac).\n",
      "9398682 variants remaining after main filters.\n",
      "Writing\n",
      "/hpc/users/sunh14/snmulti_QTL/output/Genotype/snmulti_QTL_analysis_psychAD_ADSP.leftnorm.bcftools_qc.plink_qc.fam\n",
      "... done.\n",
      "Writing\n",
      "/hpc/users/sunh14/snmulti_QTL/output/Genotype/snmulti_QTL_analysis_psychAD_ADSP.leftnorm.bcftools_qc.plink_qc.bim\n",
      "... done.\n",
      "Writing\n",
      "/hpc/users/sunh14/snmulti_QTL/output/Genotype/snmulti_QTL_analysis_psychAD_ADSP.leftnorm.bcftools_qc.plink_qc.bed\n",
      "... done.\n",
      "\n",
      "End time: Wed Dec 13 13:38:30 2023\n"
     ]
    }
   ],
   "source": [
    "cat  /hpc/users/sunh14/snmulti_QTL/output/Genotype/snmulti_QTL_analysis_psychAD_ADSP.leftnorm.bcftools_qc.plink_qc.log"
   ]
  },
  {
   "cell_type": "code",
   "execution_count": 120,
   "id": "d3baa0fa-344f-4ef8-8884-31621fa5a565",
   "metadata": {},
   "outputs": [
    {
     "name": "stdout",
     "output_type": "stream",
     "text": [
      "chr1\tchr1:779825:C:G\t0\t779825\tG\tC\n",
      "chr1\tchr1:779929:AG:A\t0\t779929\tA\tAG\n",
      "chr1\tchr1:782207:G:A\t0\t782207\tA\tG\n",
      "chr1\tchr1:787965:A:C\t0\t787965\tC\tA\n",
      "chr1\tchr1:793571:C:T\t0\t793571\tT\tC\n",
      "chr1\tchr1:800177:GT:G\t0\t800177\tG\tGT\n",
      "chr1\tchr1:801327:GTAAA:G\t0\t801327\tG\tGTAAA\n",
      "chr1\tchr1:805036:A:G\t0\t805036\tG\tA\n",
      "chr1\tchr1:805477:G:A\t0\t805477\tA\tG\n",
      "chr1\tchr1:817125:A:G\t0\t817125\tG\tA\n"
     ]
    }
   ],
   "source": [
    "head  /hpc/users/sunh14/snmulti_QTL/output/Genotype/snmulti_QTL_analysis_psychAD_ADSP.leftnorm.bcftools_qc.bim"
   ]
  },
  {
   "cell_type": "markdown",
   "id": "ea9be3c3-592e-45a3-a4c1-2f9c28a35d80",
   "metadata": {},
   "source": [
    "## Plink QC\n",
    "~Half of the genotype are removed, I am beginning to cnecern\n"
   ]
  },
  {
   "cell_type": "code",
   "execution_count": 121,
   "id": "e25f4780-a7ae-4321-9d1f-7d696ad16d88",
   "metadata": {},
   "outputs": [
    {
     "name": "stdout",
     "output_type": "stream",
     "text": [
      "[2] 273499\n"
     ]
    },
    {
     "ename": "",
     "evalue": "1",
     "output_type": "error",
     "traceback": []
    }
   ],
   "source": [
    "nohup sos run pipeline/GWAS_QC.ipynb qc_no_prune \\\n",
    "   --cwd ~/snmulti_QTL/output/Genotype \\\n",
    "   --genoFile /hpc/users/sunh14/snmulti_QTL/output/Genotype/snmulti_QTL_analysis_psychAD_ADSP.leftnorm.bcftools_qc.bed \\\n",
    "   --geno-filter 0.1 \\\n",
    "   --mind-filter 0.1 \\\n",
    "   --hwe-filter 1e-08   \\\n",
    "   --mac-filter 5 \\\n",
    "   --container ../xqtl-pipeline-container/bioinfo.sif  &"
   ]
  },
  {
   "cell_type": "code",
   "execution_count": 125,
   "id": "ae10cf63-b030-48f1-8c36-358028b5b4b4",
   "metadata": {},
   "outputs": [
    {
     "name": "stdout",
     "output_type": "stream",
     "text": [
      "PLINK v2.00a3.7LM 64-bit Intel (24 Oct 2022)\n",
      "Options in effect:\n",
      "  --bfile /hpc/users/sunh14/snmulti_QTL/output/Genotype/snmulti_QTL_analysis_psychAD_ADSP.leftnorm.bcftools_qc\n",
      "  --geno 0.1\n",
      "  --hwe 1e-08\n",
      "  --mac 5.0\n",
      "  --make-bed\n",
      "  --memory 14400.0\n",
      "  --mind 0.1\n",
      "  --new-id-max-allele-len 1000\n",
      "  --out /hpc/users/sunh14/snmulti_QTL/output/Genotype/snmulti_QTL_analysis_psychAD_ADSP.leftnorm.bcftools_qc.plink_qc\n",
      "  --set-all-var-ids chr@:#_$r_$a\n",
      "  --threads 20\n",
      "\n",
      "Hostname: lc03e08\n",
      "Working directory: /sc/arion/projects/CommonMind/roussp01a/snmulti_QTL/working\n",
      "Start time: Wed Dec 13 13:38:25 2023\n",
      "\n",
      "Random number seed: 1702492705\n",
      "192949 MiB RAM detected; reserving 14400 MiB for main workspace.\n",
      "Using up to 20 threads (change this with --threads).\n",
      "248 samples (0 females, 0 males, 248 ambiguous; 248 founders) loaded from\n",
      "/hpc/users/sunh14/snmulti_QTL/output/Genotype/snmulti_QTL_analysis_psychAD_ADSP.leftnorm.bcftools_qc.fam.\n",
      "15877625 variants loaded from\n",
      "/hpc/users/sunh14/snmulti_QTL/output/Genotype/snmulti_QTL_analysis_psychAD_ADSP.leftnorm.bcftools_qc.bim.\n",
      "Note: No phenotype data present.\n",
      "Calculating sample missingness rates... done.\n",
      "0 samples removed due to missing genotype data (--mind).\n",
      "248 samples (0 females, 0 males, 248 ambiguous; 248 founders) remaining after\n",
      "main filters.\n",
      "Calculating allele frequencies... done.\n",
      "--geno: 22355 variants removed due to missing genotype data.\n",
      "--hwe: 3106 variants removed due to Hardy-Weinberg exact test (founders only).\n",
      "6453482 variants removed due to allele frequency threshold(s)\n",
      "(--maf/--max-maf/--mac/--max-mac).\n",
      "9398682 variants remaining after main filters.\n",
      "Writing\n",
      "/hpc/users/sunh14/snmulti_QTL/output/Genotype/snmulti_QTL_analysis_psychAD_ADSP.leftnorm.bcftools_qc.plink_qc.fam\n",
      "... done.\n",
      "Writing\n",
      "/hpc/users/sunh14/snmulti_QTL/output/Genotype/snmulti_QTL_analysis_psychAD_ADSP.leftnorm.bcftools_qc.plink_qc.bim\n",
      "... done.\n",
      "Writing\n",
      "/hpc/users/sunh14/snmulti_QTL/output/Genotype/snmulti_QTL_analysis_psychAD_ADSP.leftnorm.bcftools_qc.plink_qc.bed\n",
      "... done.\n",
      "\n",
      "End time: Wed Dec 13 13:38:30 2023\n"
     ]
    }
   ],
   "source": [
    "cat  /hpc/users/sunh14/snmulti_QTL/output/Genotype/snmulti_QTL_analysis_psychAD_ADSP.leftnorm.bcftools_qc.plink_qc.log"
   ]
  },
  {
   "cell_type": "markdown",
   "id": "e75654b2-f9f1-4cfd-ad8e-42ce77f5b564",
   "metadata": {},
   "source": [
    "## Plink by chrom"
   ]
  },
  {
   "cell_type": "code",
   "execution_count": 145,
   "id": "38e706d5-05aa-4a9d-982b-6fb880eb9e5d",
   "metadata": {},
   "outputs": [
    {
     "name": "stdout",
     "output_type": "stream",
     "text": [
      "[3] 285777\n"
     ]
    }
   ],
   "source": [
    "cd /sc/arion/projects/CommonMind/roussp01a/snmulti_QTL/working\n",
    "nohup sos run pipeline/genotype_formatting.ipynb genotype_by_chrom \\\n",
    "    --genoFile /hpc/users/sunh14/snmulti_QTL/output/Genotype/snmulti_QTL_analysis_psychAD_ADSP.leftnorm.bcftools_qc.plink_qc.bed \\\n",
    "    --cwd ../output/Genotype \\\n",
    "    --chrom `cut -f 1 /hpc/users/sunh14/snmulti_QTL/output/Genotype/snmulti_QTL_analysis_psychAD_ADSP.leftnorm.bcftools_qc.plink_qc.bim | uniq | sed \"s/chr//g\"` \\\n",
    "    --container ../xqtl-pipeline-container/bioinfo.sif  &"
   ]
  },
  {
   "cell_type": "code",
   "execution_count": null,
   "id": "45c0b02f-ef06-409c-a2aa-db74ca5176aa",
   "metadata": {},
   "outputs": [],
   "source": []
  },
  {
   "cell_type": "markdown",
   "id": "ef7a41a4-d061-458d-808f-f46ea8fe2ac0",
   "metadata": {},
   "source": [
    "## GRM generation"
   ]
  },
  {
   "cell_type": "code",
   "execution_count": 152,
   "id": "c43b4142-9e0e-4e41-990d-afe8ddf191ba",
   "metadata": {},
   "outputs": [
    {
     "name": "stdout",
     "output_type": "stream",
     "text": [
      "[3] 4453\n"
     ]
    },
    {
     "ename": "",
     "evalue": "1",
     "output_type": "error",
     "traceback": []
    }
   ],
   "source": [
    "nohup sos run pipeline/GRM.ipynb grm \\\n",
    "    --cwd ../output/GRM \\\n",
    "    --genoFile /sc/arion/projects/CommonMind/roussp01a/snmulti_QTL//output/Genotype/snmulti_QTL_analysis_psychAD_ADSP.leftnorm.bcftools_qc.plink_qc.genotype_by_chrom_files.txt \\\n",
    "    --container ../xqtl-pipeline-container/bioinfo.sif  &"
   ]
  },
  {
   "cell_type": "code",
   "execution_count": 3,
   "id": "8602a4d1-4086-4097-86d3-010558892d47",
   "metadata": {},
   "outputs": [
    {
     "name": "stdout",
     "output_type": "stream",
     "text": [
      "#id\t#path\n",
      "7\t/sc/arion/projects/CommonMind/roussp01a/snmulti_QTL/output/Genotype/snmulti_QTL_analysis_psychAD_ADSP.leftnorm.bcftools_qc.plink_qc.7.bed\n",
      "15\t/sc/arion/projects/CommonMind/roussp01a/snmulti_QTL/output/Genotype/snmulti_QTL_analysis_psychAD_ADSP.leftnorm.bcftools_qc.plink_qc.15.bed\n",
      "10\t/sc/arion/projects/CommonMind/roussp01a/snmulti_QTL/output/Genotype/snmulti_QTL_analysis_psychAD_ADSP.leftnorm.bcftools_qc.plink_qc.10.bed\n",
      "2\t/sc/arion/projects/CommonMind/roussp01a/snmulti_QTL/output/Genotype/snmulti_QTL_analysis_psychAD_ADSP.leftnorm.bcftools_qc.plink_qc.2.bed\n",
      "4\t/sc/arion/projects/CommonMind/roussp01a/snmulti_QTL/output/Genotype/snmulti_QTL_analysis_psychAD_ADSP.leftnorm.bcftools_qc.plink_qc.4.bed\n",
      "22\t/sc/arion/projects/CommonMind/roussp01a/snmulti_QTL/output/Genotype/snmulti_QTL_analysis_psychAD_ADSP.leftnorm.bcftools_qc.plink_qc.22.bed\n",
      "9\t/sc/arion/projects/CommonMind/roussp01a/snmulti_QTL/output/Genotype/snmulti_QTL_analysis_psychAD_ADSP.leftnorm.bcftools_qc.plink_qc.9.bed\n",
      "17\t/sc/arion/projects/CommonMind/roussp01a/snmulti_QTL/output/Genotype/snmulti_QTL_analysis_psychAD_ADSP.leftnorm.bcftools_qc.plink_qc.17.bed\n",
      "12\t/sc/arion/projects/CommonMind/roussp01a/snmulti_QTL/output/Genotype/snmulti_QTL_analysis_psychAD_ADSP.leftnorm.bcftools_qc.plink_qc.12.bed\n",
      "8\t/sc/arion/projects/CommonMind/roussp01a/snmulti_QTL/output/Genotype/snmulti_QTL_analysis_psychAD_ADSP.leftnorm.bcftools_qc.plink_qc.8.bed\n",
      "6\t/sc/arion/projects/CommonMind/roussp01a/snmulti_QTL/output/Genotype/snmulti_QTL_analysis_psychAD_ADSP.leftnorm.bcftools_qc.plink_qc.6.bed\n",
      "16\t/sc/arion/projects/CommonMind/roussp01a/snmulti_QTL/output/Genotype/snmulti_QTL_analysis_psychAD_ADSP.leftnorm.bcftools_qc.plink_qc.16.bed\n",
      "3\t/sc/arion/projects/CommonMind/roussp01a/snmulti_QTL/output/Genotype/snmulti_QTL_analysis_psychAD_ADSP.leftnorm.bcftools_qc.plink_qc.3.bed\n",
      "18\t/sc/arion/projects/CommonMind/roussp01a/snmulti_QTL/output/Genotype/snmulti_QTL_analysis_psychAD_ADSP.leftnorm.bcftools_qc.plink_qc.18.bed\n",
      "19\t/sc/arion/projects/CommonMind/roussp01a/snmulti_QTL/output/Genotype/snmulti_QTL_analysis_psychAD_ADSP.leftnorm.bcftools_qc.plink_qc.19.bed\n",
      "14\t/sc/arion/projects/CommonMind/roussp01a/snmulti_QTL/output/Genotype/snmulti_QTL_analysis_psychAD_ADSP.leftnorm.bcftools_qc.plink_qc.14.bed\n",
      "1\t/sc/arion/projects/CommonMind/roussp01a/snmulti_QTL/output/Genotype/snmulti_QTL_analysis_psychAD_ADSP.leftnorm.bcftools_qc.plink_qc.1.bed\n",
      "21\t/sc/arion/projects/CommonMind/roussp01a/snmulti_QTL/output/Genotype/snmulti_QTL_analysis_psychAD_ADSP.leftnorm.bcftools_qc.plink_qc.21.bed\n",
      "20\t/sc/arion/projects/CommonMind/roussp01a/snmulti_QTL/output/Genotype/snmulti_QTL_analysis_psychAD_ADSP.leftnorm.bcftools_qc.plink_qc.20.bed\n",
      "5\t/sc/arion/projects/CommonMind/roussp01a/snmulti_QTL/output/Genotype/snmulti_QTL_analysis_psychAD_ADSP.leftnorm.bcftools_qc.plink_qc.5.bed\n",
      "11\t/sc/arion/projects/CommonMind/roussp01a/snmulti_QTL/output/Genotype/snmulti_QTL_analysis_psychAD_ADSP.leftnorm.bcftools_qc.plink_qc.11.bed\n",
      "13\t/sc/arion/projects/CommonMind/roussp01a/snmulti_QTL/output/Genotype/snmulti_QTL_analysis_psychAD_ADSP.leftnorm.bcftools_qc.plink_qc.13.bed\n"
     ]
    }
   ],
   "source": [
    "cat /sc/arion/projects/CommonMind/roussp01a/snmulti_QTL//output/Genotype/snmulti_QTL_analysis_psychAD_ADSP.leftnorm.bcftools_qc.plink_qc.genotype_by_chrom_files.txt"
   ]
  },
  {
   "cell_type": "code",
   "execution_count": null,
   "id": "57c04d88-7c7f-45d4-947a-b6db274ae22a",
   "metadata": {},
   "outputs": [],
   "source": []
  },
  {
   "cell_type": "markdown",
   "id": "ea30242c-3fd8-43df-bbb2-f4c63dde4d3b",
   "metadata": {},
   "source": [
    "## Examn relateness for the samples\n",
    "This is to demostrate the is no related samples in the study."
   ]
  },
  {
   "cell_type": "code",
   "execution_count": 172,
   "id": "4a74e9de-36c2-4058-9e34-2401ceb48f66",
   "metadata": {},
   "outputs": [
    {
     "name": "stdout",
     "output_type": "stream",
     "text": [
      "/sc/arion/work/sunh14/conda/envs/py3.11/lib/python3.11/site-packages/nbformat/__init__.py:93: MissingIDFieldWarning: Code cell is missing an id field, this will become a hard error in future nbformat versions. You may want to use `normalize()` on your notebooks before validations (available since nbformat 5.1.4). Previous versions of nbformat are fixing this issue transparently, and will stop doing so in the future.\n",
      "  validate(nb)\n",
      "INFO: Running \u001b[32mking_1\u001b[0m: Inference of relationships in the sample to identify closely related individuals\n",
      "orit_res: span[hosts=1] rusage[mem=16384.00]\n",
      "init mod: \n",
      "INFO: t6a24a65af17d33e2 \u001b[32msubmitted\u001b[0m to premium with job id 108321615\n",
      "INFO: \u001b[32mking_1\u001b[0m output:   \u001b[32m/sc/arion/projects/CommonMind/roussp01a/snmulti_QTL/working/recipe_testing/data_preprocessing/Astro.PFC/genotype_data/snmulti_QTL_analysis_psychAD_ADSP.leftnorm.bcftools_qc.plink_qc.Astro.PFC.kin0\u001b[0m\n",
      "INFO: Running \u001b[32mking_2\u001b[0m: Select a list of unrelated individual with an attempt to maximize the unrelated individuals selected from the data\n",
      "INFO: No related individuals detected from /sc/arion/projects/CommonMind/roussp01a/snmulti_QTL/working/recipe_testing/data_preprocessing/Astro.PFC/genotype_data/snmulti_QTL_analysis_psychAD_ADSP.leftnorm.bcftools_qc.plink_qc.Astro.PFC.kin0.\n",
      "INFO: Running \u001b[32mking_3\u001b[0m: Split genotype data into related and unrelated samples, if related individuals are detected\n",
      "orit_res: span[hosts=1] rusage[mem=16384.00]\n",
      "init mod: \n",
      "INFO: t81fa6ba528187197 \u001b[32msubmitted\u001b[0m to premium with job id 108321701\n",
      "\u001b[91mERROR\u001b[0m: \u001b[91m[king_3]: [t81fa6ba528187197]: \n",
      "---------------------------------------------------------------------------\n",
      "IndexError                                Traceback (most recent call last)\n",
      "script_7939588844227024837 in <module>\n",
      "      bash(fr\"\"\"plink2 \\\n",
      "---->   --bfile {_input[1]:n} \\\n",
      "        --remove {_input[0]} \\\n",
      "        {('--keep %s' % keep_samples) if keep_samples.is_file() else \"\"} \\\n",
      "        --make-bed \\\n",
      "\n",
      "IndexError: list index out of range\u001b[0m\n"
     ]
    },
    {
     "ename": "",
     "evalue": "1",
     "output_type": "error",
     "traceback": []
    }
   ],
   "source": [
    "sos run /sc/arion/projects/CommonMind/roussp01a/snmulti_QTL/xqtl-pipeline/pipeline/GWAS_QC.ipynb king \\\n",
    "   --cwd recipe_testing/data_preprocessing/Astro.PFC/genotype_data \\\n",
    "   --genoFile /sc/arion/projects/CommonMind/roussp01a/snmulti_QTL//output/Genotype/snmulti_QTL_analysis_psychAD_ADSP.leftnorm.bcftools_qc.plink_qc.bed \\\n",
    "   --name Astro.PFC \\\n",
    "   --container container/bioinfo.sif \\\n",
    "   --walltime 48h  -J 50 -c /hpc/users/sunh14/minerva.yml -q premium --no-maximize_unrelated"
   ]
  },
  {
   "cell_type": "code",
   "execution_count": 173,
   "id": "d5e06ca7-b657-450c-89ef-903fba4f7c21",
   "metadata": {
    "scrolled": true
   },
   "outputs": [
    {
     "name": "stdout",
     "output_type": "stream",
     "text": [
      "#FID1\tIID1\tFID2\tIID2\tNSNP\tHETHET\tIBS0\tKINSHIP\n"
     ]
    }
   ],
   "source": [
    "cat /sc/arion/projects/CommonMind/roussp01a/snmulti_QTL/working/recipe_testing/data_preprocessing/Astro.PFC/genotype_data/snmulti_QTL_analysis_psychAD_ADSP.leftnorm.bcftools_qc.plink_qc.Astro.PFC.kin0"
   ]
  },
  {
   "cell_type": "code",
   "execution_count": 189,
   "id": "0a429208-76e2-4ffc-9989-8099f0bcbaf6",
   "metadata": {},
   "outputs": [],
   "source": [
    "cat /sc/arion/projects/CommonMind/roussp01a/snmulti_QTL/working/recipe_testing/data_preprocessing/Astro.PFC/genotype_data/snmulti_QTL_analysis_psychAD_ADSP.leftnorm.bcftools_qc.plink_qc.Astro.PFC.related_id"
   ]
  },
  {
   "cell_type": "code",
   "execution_count": 241,
   "id": "b68e418c-9541-4f5a-a98e-cdf1229891a3",
   "metadata": {},
   "outputs": [
    {
     "name": "stdout",
     "output_type": "stream",
     "text": [
      "INFO: Running \u001b[32mking_1\u001b[0m: Inference of relationships in the sample to identify closely related individuals\n",
      "INFO: \u001b[32mking_1\u001b[0m (index=0) is \u001b[32mignored\u001b[0m due to saved signature\n",
      "INFO: \u001b[32mking_1\u001b[0m output:   \u001b[32m/sc/arion/projects/CommonMind/roussp01a/snmulti_QTL/working/recipe_testing/data_preprocessing/Astro.PFC/genotype_data/snmulti_QTL_analysis_psychAD_ADSP.leftnorm.bcftools_qc.plink_qc.Astro.PFC.kin0\u001b[0m\n",
      "INFO: Running \u001b[32mking_2\u001b[0m: Select a list of unrelated individual with an attempt to maximize the unrelated individuals selected from the data\n",
      "INFO: \u001b[32mking_2\u001b[0m (index=0) is \u001b[32mignored\u001b[0m due to saved signature\n",
      "INFO: \u001b[32mking_2\u001b[0m output:   \u001b[32m/sc/arion/projects/CommonMind/roussp01a/snmulti_QTL/working/recipe_testing/data_preprocessing/Astro.PFC/genotype_data/snmulti_QTL_analysis_psychAD_ADSP.leftnorm.bcftools_qc.plink_qc.Astro.PFC.related_id\u001b[0m\n",
      "INFO: Running \u001b[32mking_4\u001b[0m: Split genotype data into related and unrelated samples, if related individuals are detected\n",
      "INFO: No related individuals detected from /sc/arion/projects/CommonMind/roussp01a/snmulti_QTL/working/recipe_testing/data_preprocessing/Astro.PFC/genotype_data/snmulti_QTL_analysis_psychAD_ADSP.leftnorm.bcftools_qc.plink_qc.Astro.PFC.related_id /sc/arion/projects/CommonMind/roussp01a/snmulti_QTL/output/Genotype/snmulti_QTL_analysis_psychAD_ADSP.leftnorm.bcftools_qc.plink_qc.bed.\n",
      "INFO: \u001b[32mking_4\u001b[0m output:   \u001b[32m/sc/arion/projects/CommonMind/roussp01a/snmulti_QTL/working/recipe_testing/data_preprocessing/Astro.PFC/genotype_data/snmulti_QTL_analysis_psychAD_ADSP.leftnorm.bcftools_qc.plink_qc.Astro.PFC.related.bed\u001b[0m\n",
      "INFO: Running \u001b[32mking_3\u001b[0m: Split genotype data into related and unrelated samples, if related individuals are detected\n",
      "INFO: \u001b[32mking_3\u001b[0m is \u001b[32mcompleted\u001b[0m.\n",
      "INFO: \u001b[32mking_3\u001b[0m output:   \u001b[32m/sc/arion/projects/CommonMind/roussp01a/snmulti_QTL/working/recipe_testing/data_preprocessing/Astro.PFC/genotype_data/snmulti_QTL_analysis_psychAD_ADSP.leftnorm.bcftools_qc.plink_qc.Astro.PFC.unrelated.bed\u001b[0m\n",
      "INFO: Workflow king (ID=wec235c4be67d0d89) is executed successfully with 1 completed step and 3 ignored steps.\n"
     ]
    }
   ],
   "source": [
    "sos run /sc/arion/projects/CommonMind/roussp01a/snmulti_QTL/xqtl-pipeline/pipeline/GWAS_QC.ipynb king \\\n",
    "   --cwd recipe_testing/data_preprocessing/Astro.PFC/genotype_data \\\n",
    "   --genoFile /sc/arion/projects/CommonMind/roussp01a/snmulti_QTL//output/Genotype/snmulti_QTL_analysis_psychAD_ADSP.leftnorm.bcftools_qc.plink_qc.bed \\\n",
    "   --name Astro.PFC \\\n",
    "   --container container/bioinfo.sif \n",
    "#   --walltime 48h  -J 50 -c /hpc/users/sunh14/minerva.yml -q premium --no-maximize_unrelated -s force "
   ]
  },
  {
   "cell_type": "code",
   "execution_count": 198,
   "id": "745d9ef4-d39c-4c6a-b8e4-fff7841041b6",
   "metadata": {},
   "outputs": [
    {
     "name": "stdout",
     "output_type": "stream",
     "text": [
      "Error: No samples remaining after main filters.\n"
     ]
    }
   ],
   "source": [
    "cat /sc/arion/projects/CommonMind/roussp01a/snmulti_QTL/working/recipe_testing/data_preprocessing/Astro.PFC/genotype_data/snmulti_QTL_analysis_psychAD_ADSP.leftnorm.bcftools_qc.plink_qc.Astro.PFC.related.stderr"
   ]
  },
  {
   "cell_type": "code",
   "execution_count": 195,
   "id": "c2f2c133-6f83-469e-a7ff-963b413bdcf6",
   "metadata": {},
   "outputs": [
    {
     "name": "stdout",
     "output_type": "stream",
     "text": [
      "snmulti_QTL_analysis_psychAD_ADSP.leftnorm.bcftools_qc.plink_qc.Astro.PFC.kin0\n",
      "snmulti_QTL_analysis_psychAD_ADSP.leftnorm.bcftools_qc.plink_qc.Astro.PFC.kin0.stderr\n",
      "snmulti_QTL_analysis_psychAD_ADSP.leftnorm.bcftools_qc.plink_qc.Astro.PFC.kin0.stdout\n",
      "snmulti_QTL_analysis_psychAD_ADSP.leftnorm.bcftools_qc.plink_qc.Astro.PFC.log\n",
      "snmulti_QTL_analysis_psychAD_ADSP.leftnorm.bcftools_qc.plink_qc.Astro.PFC.related.bed.step_king.stderr\n",
      "snmulti_QTL_analysis_psychAD_ADSP.leftnorm.bcftools_qc.plink_qc.Astro.PFC.related.filtered.extracted.bed\n",
      "snmulti_QTL_analysis_psychAD_ADSP.leftnorm.bcftools_qc.plink_qc.Astro.PFC.related_id\n",
      "snmulti_QTL_analysis_psychAD_ADSP.leftnorm.bcftools_qc.plink_qc.Astro.PFC.related.log\n",
      "snmulti_QTL_analysis_psychAD_ADSP.leftnorm.bcftools_qc.plink_qc.Astro.PFC.unrelated.bim\n",
      "snmulti_QTL_analysis_psychAD_ADSP.leftnorm.bcftools_qc.plink_qc.Astro.PFC.unrelated.fam\n",
      "snmulti_QTL_analysis_psychAD_ADSP.leftnorm.bcftools_qc.plink_qc.Astro.PFC.unrelated.filtered.prune.bed\n",
      "snmulti_QTL_analysis_psychAD_ADSP.leftnorm.bcftools_qc.plink_qc.Astro.PFC.unrelated.filtered.prune.in\n",
      "snmulti_QTL_analysis_psychAD_ADSP.leftnorm.bcftools_qc.plink_qc.Astro.PFC.unrelated.log\n",
      "snmulti_QTL_analysis_psychAD_ADSP.leftnorm.bcftools_qc.plink_qc.Astro.PFC.unrelated.stderr\n",
      "snmulti_QTL_analysis_psychAD_ADSP.leftnorm.bcftools_qc.plink_qc.Astro.PFC.unrelated.stdout\n"
     ]
    }
   ],
   "source": [
    "ls /sc/arion/projects/CommonMind/roussp01a/snmulti_QTL/working/recipe_testing/data_preprocessing/Astro.PFC/genotype_data/"
   ]
  },
  {
   "cell_type": "markdown",
   "id": "ccb9d4f1-5069-446b-9ba8-e5587109528a",
   "metadata": {},
   "source": [
    "## Automated runs\n",
    "Please see recip_generation.ipynb in the same folder for details on how to generate the recipe for running the automated commands. \n",
    "#### Now the MMQTL run for every analysis i.e. condcut a univariate analysis for each row in the recipe. I believe this is the most robust and rigorous way for next people who run it. ####"
   ]
  },
  {
   "cell_type": "code",
   "execution_count": 241,
   "id": "61c40a11-39a9-4dbb-b379-0ee7ac877535",
   "metadata": {},
   "outputs": [
    {
     "name": "stdout",
     "output_type": "stream",
     "text": [
      "INFO: Step \u001b[32mresid_factor_exp\u001b[0m (index=0) is \u001b[32mignored\u001b[0m with signature constructed\n",
      "INFO: Step \u001b[32mresid_factor_exp\u001b[0m (index=3) is \u001b[32mignored\u001b[0m with signature constructed\n",
      "INFO: \u001b[32mresid_factor_exp\u001b[0m output:   \u001b[32mrecipe_testing/data_preprocessing/Astro.EC/resid_phenotype/pb4dreamlet_subclass.Astro.EC.low_expression_filtered.normalized.log2cpm.gct.cov_pca_factor.residual.bed.gz recipe_testing/data_preprocessing/Astro.PFC/resid_phenotype/pb4dreamlet_subclass.Astro.PFC.low_expression_filtered.normalized.log2cpm.gct.cov_pca_factor.residual.bed.gz... (4 items in 4 groups)\u001b[0m\n",
      "INFO: Running \u001b[32mphenotype_partition_by_chrom\u001b[0m: \n",
      "INFO: \u001b[32mphenotype_partition_by_chrom\u001b[0m (index=1) is \u001b[32mcompleted\u001b[0m.\n",
      "INFO: \u001b[32mphenotype_partition_by_chrom\u001b[0m (index=0) is \u001b[32mcompleted\u001b[0m.\n",
      "INFO: \u001b[32mphenotype_partition_by_chrom\u001b[0m (index=3) is \u001b[32mcompleted\u001b[0m.\n",
      "INFO: \u001b[32mphenotype_partition_by_chrom\u001b[0m (index=2) is \u001b[32mcompleted\u001b[0m.\n",
      "INFO: \u001b[32mphenotype_partition_by_chrom\u001b[0m output:   \u001b[32mrecipe_testing/data_preprocessing/Astro.EC/phenotype_data/pb4dreamlet_subclass.Astro.EC.low_expression_filtered.normalized.log2cpm.gct.cov_pca_factor.residual.bed.phenotype_by_chrom_gct_files.txt recipe_testing/data_preprocessing/Astro.EC/phenotype_data/pb4dreamlet_subclass.Astro.EC.low_expression_filtered.normalized.log2cpm.gct.cov_pca_factor.residual.bed.phenotype_by_chrom_gct_files.region_list.txt... (8 items in 4 groups)\u001b[0m\n",
      "INFO: Workflow phenotype_partition_by_chrom (ID=w34e6900873c76d66) is executed successfully with 1 completed step, 4 completed substeps, 9 ignored steps and 36 ignored substeps.\n"
     ]
    }
   ],
   "source": [
    "tail test_recipe_script"
   ]
  },
  {
   "cell_type": "code",
   "execution_count": 232,
   "id": "4acf9416-6b41-4cae-9989-fb0fe6955562",
   "metadata": {
    "scrolled": true
   },
   "outputs": [
    {
     "name": "stdout",
     "output_type": "stream",
     "text": [
      "[5] 54613\n"
     ]
    },
    {
     "ename": "",
     "evalue": "1",
     "output_type": "error",
     "traceback": []
    }
   ],
   "source": [
    "cd /sc/arion/projects/CommonMind/roussp01a/snmulti_QTL/working\n",
    "nohup sos run pipeline/mmQTL_analysis_commands.ipynb phenotype_partition_by_chrom \\\n",
    "    --recipe   test_recipe \\\n",
    "    --annotation_gtf /sc/arion/projects/CommonMind/roussp01a/snmulti_QTL/input/reference_data/Homo_sapiens.GRCh38.103.chr.reformatted.collapse_only.gene.gtf   \\\n",
    "    --sample_participant_lookup ../input//snmulti_QTL_sample_participant_lookup_re  \\\n",
    "    --cwd recipe_testing  \\\n",
    "    --annotation_fasta  /sc/arion/projects/CommonMind/roussp01a/snmulti_QTL/input/reference_data/GRCh38_full_analysis_set_plus_decoy_hla.noALT_noHLA_noDecoy_ERCC.fasta \\\n",
    "    --genotype_list /sc/arion/projects/CommonMind/roussp01a/snmulti_QTL/output/Genotype/snmulti_QTL_analysis_psychAD_ADSP.leftnorm.bcftools_qc.plink_qc.genotype_by_chrom_files.region_list.txt   \\\n",
    "    --grmFile /sc/arion/projects/CommonMind/roussp01a/snmulti_QTL//output/GRM/snmulti_QTL_analysis_psychAD_ADSP.leftnorm.bcftools_qc.plink_qc.loco_grm_list.txt \\\n",
    "    --region_list  /sc/arion/projects/CommonMind/roussp01a/snmulti_QTL/input/reference_data/Homo_sapiens.GRCh38.103.chr.reformatted.collapse_only.gene.unique.region_list   \\\n",
    "    --n_brain_region 3 \\\n",
    "    --queue     premium  --yml  ~/minerva.yml --run  --exe_dir /sc/arion/projects/CommonMind/roussp01a/snmulti_QTL/xqtl-pipeline -s build > test_recipe_script  &"
   ]
  },
  {
   "cell_type": "markdown",
   "id": "1a600d9d-d33a-411d-bd32-29ea66b304f8",
   "metadata": {},
   "source": [
    "If you want to see the detail script that will be run, please use the following commands: change `run` to `dryrun`, removing the `-s build`"
   ]
  },
  {
   "cell_type": "code",
   "execution_count": null,
   "id": "62377c62-024d-4ff3-bf31-021ffcb85114",
   "metadata": {},
   "outputs": [],
   "source": [
    "cd /sc/arion/projects/CommonMind/roussp01a/snmulti_QTL/working\n",
    "nohup sos dryrun pipeline/mmQTL_analysis_commands.ipynb MMQTL \\\n",
    "    --recipe   test_recipe \\\n",
    "    --annotation_gtf /sc/arion/projects/CommonMind/roussp01a/snmulti_QTL/input/reference_data/Homo_sapiens.GRCh38.103.chr.reformatted.collapse_only.gene.gtf   \\\n",
    "    --sample_participant_lookup ../input//snmulti_QTL_sample_participant_lookup_re  \\\n",
    "    --cwd recipe_testing  \\\n",
    "    --annotation_fasta  /sc/arion/projects/CommonMind/roussp01a/snmulti_QTL/input/reference_data/GRCh38_full_analysis_set_plus_decoy_hla.noALT_noHLA_noDecoy_ERCC.fasta \\\n",
    "    --genotype_list /sc/arion/projects/CommonMind/roussp01a/snmulti_QTL/output/Genotype/snmulti_QTL_analysis_psychAD_ADSP.leftnorm.bcftools_qc.plink_qc.genotype_by_chrom_files.region_list.txt   \\\n",
    "    --grmFile /sc/arion/projects/CommonMind/roussp01a/snmulti_QTL//output/GRM/snmulti_QTL_analysis_psychAD_ADSP.leftnorm.bcftools_qc.plink_qc.loco_grm_list.txt \\\n",
    "    --region_list  /sc/arion/projects/CommonMind/roussp01a/snmulti_QTL/input/reference_data/Homo_sapiens.GRCh38.103.chr.reformatted.collapse_only.gene.unique.region_list   \\\n",
    "    --queue     premium  --yml  ~/minerva.yml --run  --exe_dir /sc/arion/projects/CommonMind/roussp01a/snmulti_QTL/xqtl-pipeline > test_recipe_script  &"
   ]
  },
  {
   "cell_type": "markdown",
   "id": "4101925f-2653-4709-8738-18e77adf5aad",
   "metadata": {},
   "source": [
    "This is one of the command modified (using head to see only the first few genes) from the command generator to test the mmQTL."
   ]
  },
  {
   "cell_type": "raw",
   "id": "458559c1-6fbd-47e1-a84b-4167b1cff282",
   "metadata": {},
   "source": [
    " sos dryrun /sc/arion/projects/CommonMind/roussp01a/snmulti_QTL/xqtl-pipeline/pipeline/MMQTL.ipynb MMQTL \\\n",
    "    --genoFile /sc/arion/projects/CommonMind/roussp01a/snmulti_QTL/output/Genotype/snmulti_QTL_analysis_psychAD_ADSP.leftnorm.bcftools_qc.plink_qc.genotype_by_chrom_files.region_list.txt   \\\n",
    "    --phenoFile  <( head recipe_testing/data_preprocessing/Astro.EC/phenotype_data/pb4dreamlet_subclass.Astro.EC.low_expression_filtered.normalized.log2cpm.gct.cov_pca_factor.residual.bed.phenotype_by_chrom_files.region_list.txt ) \\\n",
    "                <(head recipe_testing/data_preprocessing/Astro.PFC/phenotype_data/pb4dreamlet_subclass.Astro.PFC.low_expression_filtered.normalized.log2cpm.gct.cov_pca_factor.residual.bed.phenotype_by_chrom_files.region_list.txt) \\\n",
    "    --cwd /sc/arion/projects/CommonMind/roussp01a/snmulti_QTL/working/recipe_testing/association_scan/MMQTL  \\\n",
    "    --grm_file /sc/arion/projects/CommonMind/roussp01a/snmulti_QTL/output/GRM/snmulti_QTL_analysis_psychAD_ADSP.leftnorm.bcftools_qc.plink_qc.loco_grm_list.txt  \\\n",
    "    --container container/panos.sif --entrypoint \\\"\\\"  \\\n",
    "    --name test_recipe_1   > mmqtl_script &"
   ]
  },
  {
   "cell_type": "markdown",
   "id": "926451e3-c9d1-4d40-a112-d15e86b16131",
   "metadata": {},
   "source": [
    "This is the genotype list that were input into the analysis. Each row is a gene and the genotype file is partitioned into chromosome"
   ]
  },
  {
   "cell_type": "code",
   "execution_count": 490,
   "id": "81758d74-ea03-4045-af66-e218774ac086",
   "metadata": {},
   "outputs": [
    {
     "name": "stdout",
     "output_type": "stream",
     "text": [
      "#id\t#path\n",
      "ENSG00000223972\t/sc/arion/projects/CommonMind/roussp01a/snmulti_QTL/output/Genotype/snmulti_QTL_analysis_psychAD_ADSP.leftnorm.bcftools_qc.plink_qc.1.bed\n",
      "ENSG00000278267\t/sc/arion/projects/CommonMind/roussp01a/snmulti_QTL/output/Genotype/snmulti_QTL_analysis_psychAD_ADSP.leftnorm.bcftools_qc.plink_qc.1.bed\n",
      "ENSG00000243485\t/sc/arion/projects/CommonMind/roussp01a/snmulti_QTL/output/Genotype/snmulti_QTL_analysis_psychAD_ADSP.leftnorm.bcftools_qc.plink_qc.1.bed\n",
      "ENSG00000227232\t/sc/arion/projects/CommonMind/roussp01a/snmulti_QTL/output/Genotype/snmulti_QTL_analysis_psychAD_ADSP.leftnorm.bcftools_qc.plink_qc.1.bed\n",
      "ENSG00000284332\t/sc/arion/projects/CommonMind/roussp01a/snmulti_QTL/output/Genotype/snmulti_QTL_analysis_psychAD_ADSP.leftnorm.bcftools_qc.plink_qc.1.bed\n",
      "ENSG00000237613\t/sc/arion/projects/CommonMind/roussp01a/snmulti_QTL/output/Genotype/snmulti_QTL_analysis_psychAD_ADSP.leftnorm.bcftools_qc.plink_qc.1.bed\n",
      "ENSG00000268020\t/sc/arion/projects/CommonMind/roussp01a/snmulti_QTL/output/Genotype/snmulti_QTL_analysis_psychAD_ADSP.leftnorm.bcftools_qc.plink_qc.1.bed\n",
      "ENSG00000240361\t/sc/arion/projects/CommonMind/roussp01a/snmulti_QTL/output/Genotype/snmulti_QTL_analysis_psychAD_ADSP.leftnorm.bcftools_qc.plink_qc.1.bed\n",
      "ENSG00000186092\t/sc/arion/projects/CommonMind/roussp01a/snmulti_QTL/output/Genotype/snmulti_QTL_analysis_psychAD_ADSP.leftnorm.bcftools_qc.plink_qc.1.bed\n"
     ]
    }
   ],
   "source": [
    "head /sc/arion/projects/CommonMind/roussp01a/snmulti_QTL/output/Genotype/snmulti_QTL_analysis_psychAD_ADSP.leftnorm.bcftools_qc.plink_qc.genotype_by_chrom_files.region_list.txt"
   ]
  },
  {
   "cell_type": "code",
   "execution_count": null,
   "id": "1b261708-8e1b-4295-8484-e82479187861",
   "metadata": {},
   "outputs": [],
   "source": []
  },
  {
   "cell_type": "markdown",
   "id": "9f684a2a-9035-4340-90f8-cef15ed1349d",
   "metadata": {},
   "source": [
    "## Astrocyte mmQTL\n",
    "This is the actual command used to generate the 3 Astrocyte MMQTL analysis. There could be some issue with the container/panos.sif in this step which was ran on and off."
   ]
  },
  {
   "cell_type": "code",
   "execution_count": null,
   "id": "d6126ee1-f520-4a26-9603-0d130b66911e",
   "metadata": {},
   "outputs": [],
   "source": [
    "nohup sos run /sc/arion/projects/CommonMind/roussp01a/snmulti_QTL/xqtl-pipeline/pipeline/MMQTL.ipynb MMQTL \\\n",
    "--genoFile /sc/arion/projects/CommonMind/roussp01a/snmulti_QTL/output/Genotype/snmulti_QTL_analysis_psychAD_ADSP.leftnorm.bcftools_qc.plink_qc.genotype_by_chrom_files.region_list.txt \\\n",
    "--phenoFile recipe_testing/data_preprocessing/Astro.EC/phenotype_data/pb4dreamlet_subclass.Astro.EC.low_expression_filtered.normalized.log2cpm.gct.cov_pca_factor.residual.bed.phenotype_by_chrom_files.region_list.txt\\\n",
    "recipe_testing/data_preprocessing/Astro.PFC/phenotype_data/pb4dreamlet_subclass.Astro.PFC.low_expression_filtered.normalized.log2cpm.gct.cov_pca_factor.residual.bed.phenotype_by_chrom_files.region_list.txt \\\n",
    "recipe_testing/data_preprocessing/Astro.STG/phenotype_data/pb4dreamlet_subclass.Astro.STG.low_expression_filtered.normalized.log2cpm.gct.cov_pca_factor.residual.bed.phenotype_by_chrom_files.region_list.txt \\\n",
    "--cwd /sc/arion/projects/CommonMind/roussp01a/snmulti_QTL/working/recipe_testing/association_scan/MMQTL --grm_file /sc/arion/projects/CommonMind/roussp01a/snmulti_QTL/output/GRM/snmulti_QTL_analysis_psychAD_ADSP.leftnorm.bcftools_qc.plink_qc.loco_grm_list.txt \\\n",
    "--region_list  /sc/arion/projects/CommonMind/roussp01a/snmulti_QTL/input/reference_data/Homo_sapiens.GRCh38.103.chr.reformatted.collapse_only.gene.unique.region_list   \\\n",
    "--container container/panos.sif  --name test_recipe -n > mmqtl_script &"
   ]
  },
  {
   "cell_type": "code",
   "execution_count": 233,
   "id": "e026ef5e-e13c-471e-b466-04bb66c12761",
   "metadata": {},
   "outputs": [],
   "source": [
    "rm recipe_testing/data_preprocessing/Astro*/phenotype_data/pb4dreamlet_subclass.A*.low_expression_filtered.normalized.log2cpm.gct.cov_pca_factor.residual.bed.phenotype_by_chrom_files.region_list.txt"
   ]
  },
  {
   "cell_type": "code",
   "execution_count": null,
   "id": "06b0ee1b-9f79-424a-b4a6-67ed0bd220e1",
   "metadata": {},
   "outputs": [],
   "source": [
    "  "
   ]
  },
  {
   "cell_type": "markdown",
   "id": "f6261cd5-0831-4f0a-9616-7994d789ab47",
   "metadata": {},
   "source": [
    "## 84 celltypes mmQTL"
   ]
  },
  {
   "cell_type": "code",
   "execution_count": null,
   "id": "a51d661c-1785-483f-a332-5e1501f06479",
   "metadata": {},
   "outputs": [],
   "source": [
    "nohup sos run pipeline/mmQTL_analysis_commands.ipynb MMQTL \\\n",
    "    --recipe   /hpc/users/sunh14/snmulti_QTL/input/snmulti_QTL_analysis_recipe.tsv \\\n",
    "    --annotation_gtf /sc/arion/projects/CommonMind/roussp01a/snmulti_QTL/input/reference_data/Homo_sapiens.GRCh38.103.chr.reformatted.collapse_only.gene.gtf   \\\n",
    "    --sample_participant_lookup ../input//snmulti_QTL_sample_participant_lookup_re  \\\n",
    "    --cwd ../output/eQTL/  \\\n",
    "    --annotation_fasta  /sc/arion/projects/CommonMind/roussp01a/snmulti_QTL/input/reference_data/GRCh38_full_analysis_set_plus_decoy_hla.noALT_noHLA_noDecoy_ERCC.fasta \\\n",
    "    --genotype_list /sc/arion/projects/CommonMind/roussp01a/snmulti_QTL/output/Genotype/snmulti_QTL_analysis_psychAD_ADSP.leftnorm.bcftools_qc.plink_qc.genotype_by_chrom_files.region_list.txt   \\\n",
    "    --region_list /sc/arion/projects/CommonMind/roussp01a/snmulti_QTL/input/reference_data/Homo_sapiens.GRCh38.103.chr.reformatted.collapse_only.gene_id.unique.gtf \\\n",
    "    --grmFile /sc/arion/projects/CommonMind/roussp01a/snmulti_QTL//output/GRM/snmulti_QTL_analysis_psychAD_ADSP.leftnorm.bcftools_qc.plink_qc.loco_grm_list.txt \\\n",
    "    --queue     premium  --yml  ~/minerva.yml --run  --exe_dir /sc/arion/projects/CommonMind/roussp01a/snmulti_QTL/xqtl-pipeline  -s build &"
   ]
  },
  {
   "cell_type": "code",
   "execution_count": 309,
   "id": "eabd9567-169e-4f4d-9194-e960e6541bbe",
   "metadata": {},
   "outputs": [
    {
     "name": "stdout",
     "output_type": "stream",
     "text": [
      "INFO: Step \u001b[32mphenotype_partition_by_chrom\u001b[0m (index=77) is \u001b[32mignored\u001b[0m with signature constructed\n",
      "INFO: Step \u001b[32mphenotype_partition_by_chrom\u001b[0m (index=76) is \u001b[32mignored\u001b[0m with signature constructed\n",
      "INFO: Step \u001b[32mphenotype_partition_by_chrom\u001b[0m (index=78) is \u001b[32mignored\u001b[0m with signature constructed\n",
      "INFO: Step \u001b[32mphenotype_partition_by_chrom\u001b[0m (index=79) is \u001b[32mignored\u001b[0m with signature constructed\n",
      "INFO: Step \u001b[32mphenotype_partition_by_chrom\u001b[0m (index=80) is \u001b[32mignored\u001b[0m with signature constructed\n",
      "INFO: Step \u001b[32mphenotype_partition_by_chrom\u001b[0m (index=81) is \u001b[32mignored\u001b[0m with signature constructed\n",
      "INFO: Step \u001b[32mphenotype_partition_by_chrom\u001b[0m (index=82) is \u001b[32mignored\u001b[0m with signature constructed\n",
      "INFO: Step \u001b[32mphenotype_partition_by_chrom\u001b[0m (index=83) is \u001b[32mignored\u001b[0m with signature constructed\n",
      "INFO: \u001b[32mphenotype_partition_by_chrom\u001b[0m output:   \u001b[32m../output/eQTL/data_preprocessing/Astro.EC/phenotype_data/pb4dreamlet_subclass.Astro.EC.low_expression_filtered.normalized.log2cpm.gct.cov_pca_factor.residual.bed.phenotype_by_chrom_gct_files.txt ../output/eQTL/data_preprocessing/Astro.EC/phenotype_data/pb4dreamlet_subclass.Astro.EC.low_expression_filtered.normalized.log2cpm.gct.cov_pca_factor.residual.bed.phenotype_by_chrom_gct_files.region_list.txt... (168 items in 84 groups)\u001b[0m\n",
      "INFO: Running \u001b[32mMMQTL\u001b[0m: \n"
     ]
    }
   ],
   "source": [
    "tail nohup.out"
   ]
  },
  {
   "cell_type": "code",
   "execution_count": 310,
   "id": "ebe81c9e-c492-4a8f-8948-1cd475d663f6",
   "metadata": {},
   "outputs": [
    {
     "name": "stdout",
     "output_type": "stream",
     "text": [
      "Theme\tmolecular_pheno\tgenotype_file\tcovariate_file\n",
      "Astro.EC\t/hpc/users/sunh14/snmulti_QTL/output/molecular_phenotype/gene_exp_dreamlet/pb4dreamlet_subclass.Astro.EC.low_expression_filtered.normalized.log2cpm.gct.gz\t/sc/arion/projects/CommonMind/roussp01a/snmulti_QTL//output/Genotype/snmulti_QTL_analysis_psychAD_ADSP.leftnorm.bcftools_qc.plink_qc.bed\t/hpc/users/sunh14/snmulti_QTL/input/snmulti_QTL_sample_covariates_age_msex_pmi.tsv\n",
      "Astro.PFC\t/hpc/users/sunh14/snmulti_QTL/output/molecular_phenotype/gene_exp_dreamlet/pb4dreamlet_subclass.Astro.PFC.low_expression_filtered.normalized.log2cpm.gct.gz\t/sc/arion/projects/CommonMind/roussp01a/snmulti_QTL//output/Genotype/snmulti_QTL_analysis_psychAD_ADSP.leftnorm.bcftools_qc.plink_qc.bed\t/hpc/users/sunh14/snmulti_QTL/input/snmulti_QTL_sample_covariates_age_msex_pmi.tsv\n",
      "Astro.STG\t/hpc/users/sunh14/snmulti_QTL/output/molecular_phenotype/gene_exp_dreamlet/pb4dreamlet_subclass.Astro.STG.low_expression_filtered.normalized.log2cpm.gct.gz\t/sc/arion/projects/CommonMind/roussp01a/snmulti_QTL//output/Genotype/snmulti_QTL_analysis_psychAD_ADSP.leftnorm.bcftools_qc.plink_qc.bed\t/hpc/users/sunh14/snmulti_QTL/input/snmulti_QTL_sample_covariates_age_msex_pmi.tsv\n",
      "Endo.EC\t/hpc/users/sunh14/snmulti_QTL/output/molecular_phenotype/gene_exp_dreamlet/pb4dreamlet_subclass.Endo.EC.low_expression_filtered.normalized.log2cpm.gct.gz\t/sc/arion/projects/CommonMind/roussp01a/snmulti_QTL//output/Genotype/snmulti_QTL_analysis_psychAD_ADSP.leftnorm.bcftools_qc.plink_qc.bed\t/hpc/users/sunh14/snmulti_QTL/input/snmulti_QTL_sample_covariates_age_msex_pmi.tsv\n",
      "Endo.PFC\t/hpc/users/sunh14/snmulti_QTL/output/molecular_phenotype/gene_exp_dreamlet/pb4dreamlet_subclass.Endo.PFC.low_expression_filtered.normalized.log2cpm.gct.gz\t/sc/arion/projects/CommonMind/roussp01a/snmulti_QTL//output/Genotype/snmulti_QTL_analysis_psychAD_ADSP.leftnorm.bcftools_qc.plink_qc.bed\t/hpc/users/sunh14/snmulti_QTL/input/snmulti_QTL_sample_covariates_age_msex_pmi.tsv\n",
      "Endo.STG\t/hpc/users/sunh14/snmulti_QTL/output/molecular_phenotype/gene_exp_dreamlet/pb4dreamlet_subclass.Endo.STG.low_expression_filtered.normalized.log2cpm.gct.gz\t/sc/arion/projects/CommonMind/roussp01a/snmulti_QTL//output/Genotype/snmulti_QTL_analysis_psychAD_ADSP.leftnorm.bcftools_qc.plink_qc.bed\t/hpc/users/sunh14/snmulti_QTL/input/snmulti_QTL_sample_covariates_age_msex_pmi.tsv\n",
      "EN_L2_3_3_5_IT_mixture.EC\t/hpc/users/sunh14/snmulti_QTL/output/molecular_phenotype/gene_exp_dreamlet/pb4dreamlet_subclass.EN_L2_3_3_5_IT_mixture.EC.low_expression_filtered.normalized.log2cpm.gct.gz\t/sc/arion/projects/CommonMind/roussp01a/snmulti_QTL//output/Genotype/snmulti_QTL_analysis_psychAD_ADSP.leftnorm.bcftools_qc.plink_qc.bed\t/hpc/users/sunh14/snmulti_QTL/input/snmulti_QTL_sample_covariates_age_msex_pmi.tsv\n",
      "EN_L2_3_3_5_IT_mixture.PFC\t/hpc/users/sunh14/snmulti_QTL/output/molecular_phenotype/gene_exp_dreamlet/pb4dreamlet_subclass.EN_L2_3_3_5_IT_mixture.PFC.low_expression_filtered.normalized.log2cpm.gct.gz\t/sc/arion/projects/CommonMind/roussp01a/snmulti_QTL//output/Genotype/snmulti_QTL_analysis_psychAD_ADSP.leftnorm.bcftools_qc.plink_qc.bed\t/hpc/users/sunh14/snmulti_QTL/input/snmulti_QTL_sample_covariates_age_msex_pmi.tsv\n",
      "EN_L2_3_3_5_IT_mixture.STG\t/hpc/users/sunh14/snmulti_QTL/output/molecular_phenotype/gene_exp_dreamlet/pb4dreamlet_subclass.EN_L2_3_3_5_IT_mixture.STG.low_expression_filtered.normalized.log2cpm.gct.gz\t/sc/arion/projects/CommonMind/roussp01a/snmulti_QTL//output/Genotype/snmulti_QTL_analysis_psychAD_ADSP.leftnorm.bcftools_qc.plink_qc.bed\t/hpc/users/sunh14/snmulti_QTL/input/snmulti_QTL_sample_covariates_age_msex_pmi.tsv\n"
     ]
    }
   ],
   "source": [
    "head /hpc/users/sunh14/snmulti_QTL/input/snmulti_QTL_analysis_recipe.tsv"
   ]
  },
  {
   "cell_type": "code",
   "execution_count": 295,
   "id": "0e99c38b-099a-4ae3-a478-12dea4d1cd1f",
   "metadata": {},
   "outputs": [
    {
     "name": "stdout",
     "output_type": "stream",
     "text": [
      "cd /sc/arion/projects/CommonMind/roussp01a/snmulti_QTL/output/eQTL/association_scan/MMQTL/MMQTL\n",
      "~/sunh14/git/MMQTL/MMQTL26 -P /sc/arion/projects/CommonMind/roussp01a/snmulti_QTL/output/eQTL/association_scan/MMQTL/MMQTL/ENSG00000160213/phenotype_input_tmp -Z /sc/arion/projects/CommonMind/roussp01a/snmulti_QTL/output/eQTL/association_scan/MMQTL/MMQTL/ENSG00000160213/genotype_input_tmp -a /sc/arion/projects/CommonMind/roussp01a/snmulti_QTL/input/reference_data/Homo_sapiens.GRCh38.103.chr.reformatted.collapse_only.gene_id.unique.gtf -T ENSG00000160213  -o snmulti_QTL_analysis_recipe.tsv.ENSG00000160213. --grm_file /sc/arion/projects/CommonMind/roussp01a/snmulti_QTL/output/eQTL/association_scan/MMQTL/MMQTL/ENSG00000160213/snmulti_QTL_analysis_recipe.tsv.ENSG00000160213._peak_1_statistical_signal.grm\n",
      "\n",
      "\n"
     ]
    }
   ],
   "source": [
    "cat /hpc/users/sunh14/.sos/d60acd702f58c6c1/MMQTL_2_19684_96de9767.sh"
   ]
  },
  {
   "cell_type": "code",
   "execution_count": 296,
   "id": "2a34986e-4d85-4bc9-8e3a-b424ddc1380c",
   "metadata": {},
   "outputs": [
    {
     "name": "stdout",
     "output_type": "stream",
     "text": [
      "/sc/arion/projects/CommonMind/roussp01a/snmulti_QTL/output/Genotype/snmulti_QTL_analysis_psychAD_ADSP.leftnorm.bcftools_qc.plink_qc.21.bed\n",
      "/sc/arion/projects/CommonMind/roussp01a/snmulti_QTL/output/Genotype/snmulti_QTL_analysis_psychAD_ADSP.leftnorm.bcftools_qc.plink_qc.21.bed\n",
      "/sc/arion/projects/CommonMind/roussp01a/snmulti_QTL/output/Genotype/snmulti_QTL_analysis_psychAD_ADSP.leftnorm.bcftools_qc.plink_qc.21.bed\n",
      "/sc/arion/projects/CommonMind/roussp01a/snmulti_QTL/output/Genotype/snmulti_QTL_analysis_psychAD_ADSP.leftnorm.bcftools_qc.plink_qc.21.bed\n",
      "/sc/arion/projects/CommonMind/roussp01a/snmulti_QTL/output/Genotype/snmulti_QTL_analysis_psychAD_ADSP.leftnorm.bcftools_qc.plink_qc.21.bed\n",
      "/sc/arion/projects/CommonMind/roussp01a/snmulti_QTL/output/Genotype/snmulti_QTL_analysis_psychAD_ADSP.leftnorm.bcftools_qc.plink_qc.21.bed\n",
      "/sc/arion/projects/CommonMind/roussp01a/snmulti_QTL/output/Genotype/snmulti_QTL_analysis_psychAD_ADSP.leftnorm.bcftools_qc.plink_qc.21.bed\n",
      "/sc/arion/projects/CommonMind/roussp01a/snmulti_QTL/output/Genotype/snmulti_QTL_analysis_psychAD_ADSP.leftnorm.bcftools_qc.plink_qc.21.bed\n",
      "/sc/arion/projects/CommonMind/roussp01a/snmulti_QTL/output/Genotype/snmulti_QTL_analysis_psychAD_ADSP.leftnorm.bcftools_qc.plink_qc.21.bed\n",
      "/sc/arion/projects/CommonMind/roussp01a/snmulti_QTL/output/Genotype/snmulti_QTL_analysis_psychAD_ADSP.leftnorm.bcftools_qc.plink_qc.21.bed\n",
      "/sc/arion/projects/CommonMind/roussp01a/snmulti_QTL/output/Genotype/snmulti_QTL_analysis_psychAD_ADSP.leftnorm.bcftools_qc.plink_qc.21.bed\n",
      "/sc/arion/projects/CommonMind/roussp01a/snmulti_QTL/output/Genotype/snmulti_QTL_analysis_psychAD_ADSP.leftnorm.bcftools_qc.plink_qc.21.bed\n",
      "/sc/arion/projects/CommonMind/roussp01a/snmulti_QTL/output/Genotype/snmulti_QTL_analysis_psychAD_ADSP.leftnorm.bcftools_qc.plink_qc.21.bed\n",
      "/sc/arion/projects/CommonMind/roussp01a/snmulti_QTL/output/Genotype/snmulti_QTL_analysis_psychAD_ADSP.leftnorm.bcftools_qc.plink_qc.21.bed\n",
      "/sc/arion/projects/CommonMind/roussp01a/snmulti_QTL/output/Genotype/snmulti_QTL_analysis_psychAD_ADSP.leftnorm.bcftools_qc.plink_qc.21.bed\n",
      "/sc/arion/projects/CommonMind/roussp01a/snmulti_QTL/output/Genotype/snmulti_QTL_analysis_psychAD_ADSP.leftnorm.bcftools_qc.plink_qc.21.bed\n",
      "/sc/arion/projects/CommonMind/roussp01a/snmulti_QTL/output/Genotype/snmulti_QTL_analysis_psychAD_ADSP.leftnorm.bcftools_qc.plink_qc.21.bed\n",
      "/sc/arion/projects/CommonMind/roussp01a/snmulti_QTL/output/Genotype/snmulti_QTL_analysis_psychAD_ADSP.leftnorm.bcftools_qc.plink_qc.21.bed\n",
      "/sc/arion/projects/CommonMind/roussp01a/snmulti_QTL/output/Genotype/snmulti_QTL_analysis_psychAD_ADSP.leftnorm.bcftools_qc.plink_qc.21.bed\n",
      "/sc/arion/projects/CommonMind/roussp01a/snmulti_QTL/output/Genotype/snmulti_QTL_analysis_psychAD_ADSP.leftnorm.bcftools_qc.plink_qc.21.bed\n",
      "/sc/arion/projects/CommonMind/roussp01a/snmulti_QTL/output/Genotype/snmulti_QTL_analysis_psychAD_ADSP.leftnorm.bcftools_qc.plink_qc.21.bed\n",
      "/sc/arion/projects/CommonMind/roussp01a/snmulti_QTL/output/Genotype/snmulti_QTL_analysis_psychAD_ADSP.leftnorm.bcftools_qc.plink_qc.21.bed\n",
      "/sc/arion/projects/CommonMind/roussp01a/snmulti_QTL/output/Genotype/snmulti_QTL_analysis_psychAD_ADSP.leftnorm.bcftools_qc.plink_qc.21.bed\n",
      "/sc/arion/projects/CommonMind/roussp01a/snmulti_QTL/output/Genotype/snmulti_QTL_analysis_psychAD_ADSP.leftnorm.bcftools_qc.plink_qc.21.bed\n",
      "/sc/arion/projects/CommonMind/roussp01a/snmulti_QTL/output/Genotype/snmulti_QTL_analysis_psychAD_ADSP.leftnorm.bcftools_qc.plink_qc.21.bed\n",
      "/sc/arion/projects/CommonMind/roussp01a/snmulti_QTL/output/Genotype/snmulti_QTL_analysis_psychAD_ADSP.leftnorm.bcftools_qc.plink_qc.21.bed\n",
      "/sc/arion/projects/CommonMind/roussp01a/snmulti_QTL/output/Genotype/snmulti_QTL_analysis_psychAD_ADSP.leftnorm.bcftools_qc.plink_qc.21.bed\n"
     ]
    }
   ],
   "source": [
    "cat /sc/arion/projects/CommonMind/roussp01a/snmulti_QTL/output/eQTL/association_scan/MMQTL/MMQTL/ENSG00000160213/genotype_input_tmp"
   ]
  },
  {
   "cell_type": "code",
   "execution_count": 268,
   "id": "54505708-e169-4b7f-9eef-d56216624c6c",
   "metadata": {},
   "outputs": [
    {
     "name": "stdout",
     "output_type": "stream",
     "text": [
      "INFO: Running \u001b[32mpeason_residual\u001b[0m: \n",
      "INFO: t9d01bef3f50bd3a1 \u001b[32msubmitted\u001b[0m to premium with job id 108624335\n",
      "INFO: Waiting for the completion of \u001b[32m1\u001b[0m task.\n",
      "INFO: Waiting for the completion of \u001b[32m1\u001b[0m task.\n",
      "INFO: Waiting for the completion of \u001b[32m1\u001b[0m task.\n",
      "INFO: Waiting for the completion of \u001b[32m1\u001b[0m task.\n",
      "INFO: Waiting for the completion of \u001b[32m1\u001b[0m task.\n",
      "INFO: Waiting for the completion of \u001b[32m1\u001b[0m task.\n",
      "INFO: Waiting for the completion of \u001b[32m1\u001b[0m task.\n",
      "INFO: Waiting for the completion of \u001b[32m1\u001b[0m task.\n",
      "INFO: Waiting for the completion of \u001b[32m1\u001b[0m task.\n",
      "INFO: Waiting for the completion of \u001b[32m1\u001b[0m task.\n",
      "\u001b[91mERROR\u001b[0m: \u001b[91m[peason_residual]: [t9d01bef3f50bd3a1]: No result is received for task t9d01bef3f50bd3a1\u001b[0m\n"
     ]
    }
   ],
   "source": [
    "cat ../output/caQTL/data_preprocessing/Astro.PFC/resid_phenotype/pb4dreamlet_subclass_ATAC.Astro.PFC.low_expression_filtered.normalized.log2cpm.gct.cov_pca_factor.residual.bed.gz.step_resid_factor_exp.stderr"
   ]
  },
  {
   "cell_type": "code",
   "execution_count": 266,
   "id": "b5d5a2d8-fec8-4ee1-91a9-b74d1c00923f",
   "metadata": {},
   "outputs": [
    {
     "name": "stdout",
     "output_type": "stream",
     "text": [
      "INFO: Running \u001b[32mpeason_residual\u001b[0m: \n",
      "INFO: tb2abdf700dbfbba1 \u001b[32msubmitted\u001b[0m to premium with job id 108628899\n",
      "INFO: Waiting for the completion of \u001b[32m1\u001b[0m task.\n",
      "INFO: Waiting for the completion of \u001b[32m1\u001b[0m task.\n",
      "INFO: Waiting for the completion of \u001b[32m1\u001b[0m task.\n",
      "INFO: Waiting for the completion of \u001b[32m1\u001b[0m task.\n",
      "INFO: Waiting for the completion of \u001b[32m1\u001b[0m task.\n",
      "INFO: Waiting for the completion of \u001b[32m1\u001b[0m task.\n",
      "INFO: Waiting for the completion of \u001b[32m1\u001b[0m task.\n",
      "INFO: Waiting for the completion of \u001b[32m1\u001b[0m task.\n",
      "INFO: Waiting for the completion of \u001b[32m1\u001b[0m task.\n",
      "INFO: Waiting for the completion of \u001b[32m1\u001b[0m task.\n",
      "INFO: Waiting for the completion of \u001b[32m1\u001b[0m task.\n",
      "\u001b[91mERROR\u001b[0m: \u001b[91m[peason_residual]: [tb2abdf700dbfbba1]: No result is received for task tb2abdf700dbfbba1\u001b[0m\n"
     ]
    }
   ],
   "source": [
    "cat ../output/caQTL/data_preprocessing/Oligo.STG/resid_phenotype/pb4dreamlet_subclass_ATAC.Oligo.STG.low_expression_filtered.normalized.log2cpm.gct.cov_pca_factor.residual.bed.gz.step_resid_factor_exp.stderr"
   ]
  },
  {
   "cell_type": "code",
   "execution_count": 214,
   "id": "de584c17-dacf-4e01-a617-f65457357d92",
   "metadata": {},
   "outputs": [
    {
     "name": "stdout",
     "output_type": "stream",
     "text": [
      " sos run /sc/arion/projects/CommonMind/roussp01a/snmulti_QTL/xqtl-pipeline/pipeline/covariate_hidden_factor_dreamlet.ipynb Marchenko_PC \\\n",
      "   --cwd ../output/caQTL/data_preprocessing/VLMC.STG/covariates \\\n",
      "   --phenoFile /sc/arion/projects/CommonMind/roussp01a/snmulti_QTL/output/caQTL/data_preprocessing/VLMC.STG/resid_phenotype/pb4dreamlet_subclass_ATAC.VLMC.STG.low_expression_filtered.normalized.log2cpm.gct.cov_pca.residual.bed.gz  \\\n",
      "   --container container/PCAtools.sif  \\\n",
      "   --covFile  /sc/arion/projects/CommonMind/roussp01a/snmulti_QTL/output/caQTL/data_preprocessing/VLMC.STG/covariates/snmulti_QTL_sample_covariates_age_msex_pmi.pca.gz \\\n",
      "   --walltime 24h \\\n",
      "   --numThreads 8 \\\n",
      "   --iteration 1000 \\\n",
      "   --N 0  -J 50 -c /hpc/users/sunh14/minerva.yml -q premium\n",
      "\n"
     ]
    }
   ],
   "source": [
    "cat /hpc/users/sunh14/.sos/d60acd702f58c6c1/factor_74_b7736048.sh"
   ]
  },
  {
   "cell_type": "code",
   "execution_count": 270,
   "id": "41578784-c627-4ef3-b7d1-fb244d952edc",
   "metadata": {},
   "outputs": [
    {
     "name": "stdout",
     "output_type": "stream",
     "text": [
      "[4] 28902\n"
     ]
    },
    {
     "ename": "",
     "evalue": "1",
     "output_type": "error",
     "traceback": []
    }
   ],
   "source": [
    "nohup sos run pipeline/mmQTL_analysis_commands_atac.ipynb MMQTL \\\n",
    "    --recipe   /hpc/users/sunh14/snmulti_QTL/input/snmulti_atac_QTL_analysis_recipe.tsv \\\n",
    "    --annotation_gtf /sc/arion/projects/CommonMind/roussp01a/snmulti_QTL/input/reference_data/Homo_sapiens.GRCh38.103.chr.reformatted.collapse_only.gene.gtf   \\\n",
    "    --sample_participant_lookup ../input//snmulti_QTL_sample_participant_lookup_re  \\\n",
    "    --peak_annotation /sc/arion/projects/CommonMind/roussp01a/snmulti_QTL/input/Peak_cell_anno_region_list \\\n",
    "    --cwd ../output/caQTL/  \\\n",
    "    --annotation_fasta  /sc/arion/projects/CommonMind/roussp01a/snmulti_QTL/input/reference_data/GRCh38_full_analysis_set_plus_decoy_hla.noALT_noHLA_noDecoy_ERCC.fasta \\\n",
    "    --genotype_list /sc/arion/projects/CommonMind/roussp01a/snmulti_QTL/output/Genotype/snmulti_QTL_analysis_psychAD_ADSP.leftnorm.bcftools_qc.plink_qc.genotype_by_chrom_files.region_list.txt   \\\n",
    "    --grmFile /sc/arion/projects/CommonMind/roussp01a/snmulti_QTL//output/GRM/snmulti_QTL_analysis_psychAD_ADSP.leftnorm.bcftools_qc.plink_qc.loco_grm_list.txt \\\n",
    "    --queue     premium  --yml  ~/minerva.yml --run  --exe_dir /sc/arion/projects/CommonMind/roussp01a/snmulti_QTL/xqtl-pipeline -s build > atac_analysis_script  &"
   ]
  }
 ],
 "metadata": {
  "kernelspec": {
   "display_name": "Bash",
   "language": "bash",
   "name": "bash"
  },
  "language_info": {
   "codemirror_mode": "shell",
   "file_extension": ".sh",
   "mimetype": "text/x-sh",
   "name": "bash"
  }
 },
 "nbformat": 4,
 "nbformat_minor": 5
}
