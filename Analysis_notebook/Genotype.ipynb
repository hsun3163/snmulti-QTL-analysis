{
 "cells": [
  {
   "cell_type": "code",
   "execution_count": 3,
   "id": "711d64c3-46e6-4ddc-baa7-3bf7c16eb765",
   "metadata": {},
   "outputs": [
    {
     "name": "stderr",
     "output_type": "stream",
     "text": [
      "── \u001b[1mAttaching core tidyverse packages\u001b[22m ──────────────────────── tidyverse 2.0.0 ──\n",
      "\u001b[32m✔\u001b[39m \u001b[34mdplyr    \u001b[39m 1.1.2     \u001b[32m✔\u001b[39m \u001b[34mreadr    \u001b[39m 2.1.4\n",
      "\u001b[32m✔\u001b[39m \u001b[34mforcats  \u001b[39m 1.0.0     \u001b[32m✔\u001b[39m \u001b[34mstringr  \u001b[39m 1.5.0\n",
      "\u001b[32m✔\u001b[39m \u001b[34mggplot2  \u001b[39m 3.4.2     \u001b[32m✔\u001b[39m \u001b[34mtibble   \u001b[39m 3.2.1\n",
      "\u001b[32m✔\u001b[39m \u001b[34mlubridate\u001b[39m 1.9.2     \u001b[32m✔\u001b[39m \u001b[34mtidyr    \u001b[39m 1.3.0\n",
      "\u001b[32m✔\u001b[39m \u001b[34mpurrr    \u001b[39m 1.0.1     \n",
      "── \u001b[1mConflicts\u001b[22m ────────────────────────────────────────── tidyverse_conflicts() ──\n",
      "\u001b[31m✖\u001b[39m \u001b[34mdplyr\u001b[39m::\u001b[32mfilter()\u001b[39m masks \u001b[34mstats\u001b[39m::filter()\n",
      "\u001b[31m✖\u001b[39m \u001b[34mdplyr\u001b[39m::\u001b[32mlag()\u001b[39m    masks \u001b[34mstats\u001b[39m::lag()\n",
      "\u001b[36mℹ\u001b[39m Use the conflicted package (\u001b[3m\u001b[34m<http://conflicted.r-lib.org/>\u001b[39m\u001b[23m) to force all conflicts to become errors\n"
     ]
    }
   ],
   "source": [
    "library(\"tidyverse\")"
   ]
  },
  {
   "cell_type": "code",
   "execution_count": 4,
   "id": "9a470a62-8b32-4b35-b4c4-c4b9701d7659",
   "metadata": {},
   "outputs": [
    {
     "name": "stderr",
     "output_type": "stream",
     "text": [
      "\u001b[1m\u001b[22mNew names:\n",
      "\u001b[36m•\u001b[39m `` -> `...1`\n",
      "\u001b[1mRows: \u001b[22m\u001b[34m25\u001b[39m \u001b[1mColumns: \u001b[22m\u001b[34m15\u001b[39m\n",
      "\u001b[36m──\u001b[39m \u001b[1mColumn specification\u001b[22m \u001b[36m────────────────────────────────────────────────────────\u001b[39m\n",
      "\u001b[1mDelimiter:\u001b[22m \",\"\n",
      "\u001b[31mchr\u001b[39m (8): ...1, unique_sample_ID, newID, match, Sex, Race, order, ADSP_WGS\n",
      "\u001b[32mdbl\u001b[39m (6): Barcode, SubNum_predict, SubNum_label, WGS.ID, Age.of.death, BB\n",
      "\u001b[33mlgl\u001b[39m (1): PsychAD_SNParray\n",
      "\n",
      "\u001b[36mℹ\u001b[39m Use `spec()` to retrieve the full column specification for this data.\n",
      "\u001b[36mℹ\u001b[39m Specify the column types or set `show_col_types = FALSE` to quiet this message.\n",
      "\u001b[1m\u001b[22mNew names:\n",
      "\u001b[36m•\u001b[39m `` -> `...1`\n",
      "\u001b[1mRows: \u001b[22m\u001b[34m574\u001b[39m \u001b[1mColumns: \u001b[22m\u001b[34m7\u001b[39m\n",
      "\u001b[36m──\u001b[39m \u001b[1mColumn specification\u001b[22m \u001b[36m────────────────────────────────────────────────────────\u001b[39m\n",
      "\u001b[1mDelimiter:\u001b[22m \",\"\n",
      "\u001b[31mchr\u001b[39m (7): ...1, SubID, order, ADSP_WGS, PsychAD_SNParray, SNParray_CommonMind...\n",
      "\n",
      "\u001b[36mℹ\u001b[39m Use `spec()` to retrieve the full column specification for this data.\n",
      "\u001b[36mℹ\u001b[39m Specify the column types or set `show_col_types = FALSE` to quiet this message.\n"
     ]
    }
   ],
   "source": [
    "e = read_delim(\"/sc/arion/projects/CommonMind/roussp01a/snmulti/step2/files/no_genotype_merged.csv\")\n",
    "e1 = read_delim(\"/sc/arion/projects/CommonMind/roussp01a/snmulti/step2/files/genotype_merged.csv\")"
   ]
  },
  {
   "cell_type": "code",
   "execution_count": null,
   "id": "724df561-b96a-4fdb-aa3f-1a7464c2e817",
   "metadata": {},
   "outputs": [],
   "source": [
    "psychAD = read_delim(\"PsychAD_genotype_sample\",col_names = F,delim = \" \")\n",
    "ADSP = read_delim(\"ADSP_genotype_sample\",col_names = F,delim = \" \")"
   ]
  },
  {
   "cell_type": "code",
   "execution_count": 13,
   "id": "67614d5b-234e-41dd-aafd-e4ee701ba658",
   "metadata": {},
   "outputs": [
    {
     "data": {
      "text/html": [
       "<style>\n",
       ".list-inline {list-style: none; margin:0; padding: 0}\n",
       ".list-inline>li {display: inline-block}\n",
       ".list-inline>li:not(:last-child)::after {content: \"\\00b7\"; padding: 0 .5ex}\n",
       "</style>\n",
       "<ol class=list-inline><li>'G-MSBB-MB000293-BR-MSBB-71951'</li><li>'G-MSBB-MB000133-BR-MSBB-71773'</li><li>'G-MSBB-MB000059-BR-MSBB-71693'</li><li>'G-MSBB-MB000051-BR-MSBB-71685'</li><li>'G-MSBB-MB000026-BR-MSBB-70460'</li><li>'G-MSBB-MB000103-BR-MSBB-71741'</li><li>'G-MSBB-MB000203-BR-MSBB-71850'</li><li>'G-MSBB-MB000138-BR-MSBB-71778'</li></ol>\n"
      ],
      "text/latex": [
       "\\begin{enumerate*}\n",
       "\\item 'G-MSBB-MB000293-BR-MSBB-71951'\n",
       "\\item 'G-MSBB-MB000133-BR-MSBB-71773'\n",
       "\\item 'G-MSBB-MB000059-BR-MSBB-71693'\n",
       "\\item 'G-MSBB-MB000051-BR-MSBB-71685'\n",
       "\\item 'G-MSBB-MB000026-BR-MSBB-70460'\n",
       "\\item 'G-MSBB-MB000103-BR-MSBB-71741'\n",
       "\\item 'G-MSBB-MB000203-BR-MSBB-71850'\n",
       "\\item 'G-MSBB-MB000138-BR-MSBB-71778'\n",
       "\\end{enumerate*}\n"
      ],
      "text/markdown": [
       "1. 'G-MSBB-MB000293-BR-MSBB-71951'\n",
       "2. 'G-MSBB-MB000133-BR-MSBB-71773'\n",
       "3. 'G-MSBB-MB000059-BR-MSBB-71693'\n",
       "4. 'G-MSBB-MB000051-BR-MSBB-71685'\n",
       "5. 'G-MSBB-MB000026-BR-MSBB-70460'\n",
       "6. 'G-MSBB-MB000103-BR-MSBB-71741'\n",
       "7. 'G-MSBB-MB000203-BR-MSBB-71850'\n",
       "8. 'G-MSBB-MB000138-BR-MSBB-71778'\n",
       "\n",
       "\n"
      ],
      "text/plain": [
       "[1] \"G-MSBB-MB000293-BR-MSBB-71951\" \"G-MSBB-MB000133-BR-MSBB-71773\"\n",
       "[3] \"G-MSBB-MB000059-BR-MSBB-71693\" \"G-MSBB-MB000051-BR-MSBB-71685\"\n",
       "[5] \"G-MSBB-MB000026-BR-MSBB-70460\" \"G-MSBB-MB000103-BR-MSBB-71741\"\n",
       "[7] \"G-MSBB-MB000203-BR-MSBB-71850\" \"G-MSBB-MB000138-BR-MSBB-71778\""
      ]
     },
     "metadata": {},
     "output_type": "display_data"
    }
   ],
   "source": [
    "e%>%filter(ADSP_WGS %in%  ADSP$X1)%>%pull(ADSP_WGS)%>%unique"
   ]
  },
  {
   "cell_type": "code",
   "execution_count": null,
   "id": "16ce3226-d724-43f6-80b5-285be1cef7ba",
   "metadata": {},
   "outputs": [],
   "source": [
    "e1%>%filter(primary_genotype %in% psychAD$X1)%>%pull(ADSP_WGS)%>%unique"
   ]
  },
  {
   "cell_type": "code",
   "execution_count": 13,
   "id": "e04952ec-1547-43dd-9211-9d8d7016f29e",
   "metadata": {
    "scrolled": true
   },
   "outputs": [
    {
     "name": "stderr",
     "output_type": "stream",
     "text": [
      "\u001b[1mRows: \u001b[22m\u001b[34m1929\u001b[39m \u001b[1mColumns: \u001b[22m\u001b[34m1\u001b[39m\n",
      "\u001b[36m──\u001b[39m \u001b[1mColumn specification\u001b[22m \u001b[36m────────────────────────────────────────────────────────\u001b[39m\n",
      "\u001b[1mDelimiter:\u001b[22m \" \"\n",
      "\u001b[31mchr\u001b[39m (1): X1\n",
      "\n",
      "\u001b[36mℹ\u001b[39m Use `spec()` to retrieve the full column specification for this data.\n",
      "\u001b[36mℹ\u001b[39m Specify the column types or set `show_col_types = FALSE` to quiet this message.\n",
      "\u001b[1mRows: \u001b[22m\u001b[34m16906\u001b[39m \u001b[1mColumns: \u001b[22m\u001b[34m1\u001b[39m\n",
      "\u001b[36m──\u001b[39m \u001b[1mColumn specification\u001b[22m \u001b[36m────────────────────────────────────────────────────────\u001b[39m\n",
      "\u001b[1mDelimiter:\u001b[22m \" \"\n",
      "\u001b[31mchr\u001b[39m (1): X1\n",
      "\n",
      "\u001b[36mℹ\u001b[39m Use `spec()` to retrieve the full column specification for this data.\n",
      "\u001b[36mℹ\u001b[39m Specify the column types or set `show_col_types = FALSE` to quiet this message.\n"
     ]
    }
   ],
   "source": []
  },
  {
   "cell_type": "markdown",
   "id": "e4d7cf72-726d-4afb-984c-abe51b45a712",
   "metadata": {},
   "source": [
    "## As it turns out, all the genotype are in PsychAD_genotype. \n",
    "\n",
    "`/sc/arion/projects/roussp01a/deepika/merging_psychAD_SNParray_WGS/common_variants_psychAD/psychAD_merged_common_variants_MSSM_CMC_HBCC_RUSH_ADSP_chr1to22.vcf.gz`\n",
    "\n",
    "`/sc/arion/projects/psychAD/genotypes/ADSP/vcfs/gcad.preview.compact_filtered.r3.wgs.16906.GATK.2020.05.26.biallelic.genotypes.ALL.vcf.gz`"
   ]
  },
  {
   "cell_type": "code",
   "execution_count": 16,
   "id": "2ed856d5-d151-429a-90e7-3fc55e7a7ce2",
   "metadata": {},
   "outputs": [
    {
     "data": {
      "text/html": [
       "<table class=\"dataframe\">\n",
       "<caption>A spec_tbl_df: 0 × 7</caption>\n",
       "<thead>\n",
       "\t<tr><th scope=col>...1</th><th scope=col>SubID</th><th scope=col>order</th><th scope=col>ADSP_WGS</th><th scope=col>PsychAD_SNParray</th><th scope=col>SNParray_CommonMind</th><th scope=col>primary_genotype</th></tr>\n",
       "\t<tr><th scope=col>&lt;chr&gt;</th><th scope=col>&lt;chr&gt;</th><th scope=col>&lt;chr&gt;</th><th scope=col>&lt;chr&gt;</th><th scope=col>&lt;chr&gt;</th><th scope=col>&lt;chr&gt;</th><th scope=col>&lt;chr&gt;</th></tr>\n",
       "</thead>\n",
       "<tbody>\n",
       "</tbody>\n",
       "</table>\n"
      ],
      "text/latex": [
       "A spec\\_tbl\\_df: 0 × 7\n",
       "\\begin{tabular}{lllllll}\n",
       " ...1 & SubID & order & ADSP\\_WGS & PsychAD\\_SNParray & SNParray\\_CommonMind & primary\\_genotype\\\\\n",
       " <chr> & <chr> & <chr> & <chr> & <chr> & <chr> & <chr>\\\\\n",
       "\\hline\n",
       "\\end{tabular}\n"
      ],
      "text/markdown": [
       "\n",
       "A spec_tbl_df: 0 × 7\n",
       "\n",
       "| ...1 &lt;chr&gt; | SubID &lt;chr&gt; | order &lt;chr&gt; | ADSP_WGS &lt;chr&gt; | PsychAD_SNParray &lt;chr&gt; | SNParray_CommonMind &lt;chr&gt; | primary_genotype &lt;chr&gt; |\n",
       "|---|---|---|---|---|---|---|\n",
       "\n"
      ],
      "text/plain": [
       "     ...1 SubID order ADSP_WGS PsychAD_SNParray SNParray_CommonMind\n",
       "     primary_genotype"
      ]
     },
     "metadata": {},
     "output_type": "display_data"
    }
   ],
   "source": [
    "a%>%filter(!primary_genotype %in% psychAD$X1)"
   ]
  },
  {
   "cell_type": "code",
   "execution_count": 57,
   "id": "01d21f2e-a1c8-4794-bcd3-34d27018fa8d",
   "metadata": {},
   "outputs": [],
   "source": [
    "tibble(participant = e%>%filter(ADSP_WGS %in%  ADSP$X1)%>%pull(ADSP_WGS)%>%unique)%>%write_delim(\"../input/snmulti_QTL_sample_list_adsp\",\"\\t\")"
   ]
  },
  {
   "cell_type": "code",
   "execution_count": 34,
   "id": "b5fa49ee-b0bf-468d-a2cb-0be3d598125e",
   "metadata": {},
   "outputs": [],
   "source": [
    "tibble(participant = c(e%>%filter(ADSP_WGS %in%  ADSP$X1)%>%pull(ADSP_WGS)%>%unique,e1%>%filter(primary_genotype %in% psychAD$X1)%>%pull(primary_genotype)%>%unique))%>%write_delim(\"../input/snmulti_QTL_sample_list\",\"\\t\")"
   ]
  },
  {
   "cell_type": "code",
   "execution_count": null,
   "id": "dc827ae3-de71-4aa3-b1bd-78108d7f4f5b",
   "metadata": {},
   "outputs": [],
   "source": [
    "a%>%count(order,primary_genotype)%>%select(sample_name = order, participant_name =  primary_genotype )%>%write_delim(\"../input/snmulti_QTL_sample_participant_lookup\",\"\\t\")"
   ]
  },
  {
   "cell_type": "code",
   "execution_count": 39,
   "id": "ae13eda2-4629-49db-97f5-dabccd8d1d31",
   "metadata": {},
   "outputs": [
    {
     "data": {
      "text/html": [
       "<table class=\"dataframe\">\n",
       "<caption>A tibble: 574 × 2</caption>\n",
       "<thead>\n",
       "\t<tr><th scope=col>sample_id</th><th scope=col>participant_id</th></tr>\n",
       "\t<tr><th scope=col>&lt;chr&gt;</th><th scope=col>&lt;chr&gt;</th></tr>\n",
       "</thead>\n",
       "<tbody>\n",
       "\t<tr><td>X570</td><td>G-MSBB-MB000040-BR-MSBB-70659</td></tr>\n",
       "\t<tr><td>X110</td><td>207822                       </td></tr>\n",
       "\t<tr><td>X212</td><td>207822                       </td></tr>\n",
       "\t<tr><td>X455</td><td>207822                       </td></tr>\n",
       "\t<tr><td>X319</td><td>G-MSBB-MB000158-BR-MSBB-71799</td></tr>\n",
       "\t<tr><td>X175</td><td>G-MSBB-MB000024-BR-MSBB-68658</td></tr>\n",
       "\t<tr><td>X230</td><td>G-MSBB-MB000169-BR-MSBB-71810</td></tr>\n",
       "\t<tr><td>X368</td><td>G-MSBB-MB000169-BR-MSBB-71810</td></tr>\n",
       "\t<tr><td>X91 </td><td>G-MSBB-MB000169-BR-MSBB-71810</td></tr>\n",
       "\t<tr><td>X380</td><td>G-MSBB-MB000135-BR-MSBB-71775</td></tr>\n",
       "\t<tr><td>X471</td><td>G-MSBB-MB000135-BR-MSBB-71775</td></tr>\n",
       "\t<tr><td>X57 </td><td>G-MSBB-MB000135-BR-MSBB-71775</td></tr>\n",
       "\t<tr><td>X35 </td><td>G-MSBB-MB000282-BR-MSBB-71940</td></tr>\n",
       "\t<tr><td>X392</td><td>G-MSBB-MB000282-BR-MSBB-71940</td></tr>\n",
       "\t<tr><td>X536</td><td>G-MSBB-MB000282-BR-MSBB-71940</td></tr>\n",
       "\t<tr><td>X182</td><td>214968                       </td></tr>\n",
       "\t<tr><td>X240</td><td>214968                       </td></tr>\n",
       "\t<tr><td>X241</td><td>214968                       </td></tr>\n",
       "\t<tr><td>X215</td><td>G-MSBB-MB000273-BR-MSBB-71931</td></tr>\n",
       "\t<tr><td>X373</td><td>G-MSBB-MB000273-BR-MSBB-71931</td></tr>\n",
       "\t<tr><td>X77 </td><td>G-MSBB-MB000287-BR-MSBB-71945</td></tr>\n",
       "\t<tr><td>X173</td><td>G-MSBB-MB000076-BR-MSBB-71712</td></tr>\n",
       "\t<tr><td>X273</td><td>G-MSBB-MB000084-BR-MSBB-71720</td></tr>\n",
       "\t<tr><td>X511</td><td>G-MSBB-MB000084-BR-MSBB-71720</td></tr>\n",
       "\t<tr><td>X209</td><td>G-MSBB-MB000233-BR-MSBB-71885</td></tr>\n",
       "\t<tr><td>X453</td><td>G-MSBB-MB000233-BR-MSBB-71885</td></tr>\n",
       "\t<tr><td>X432</td><td>G-MSBB-MB000150-BR-MSBB-71791</td></tr>\n",
       "\t<tr><td>X596</td><td>G-MSBB-MB000150-BR-MSBB-71791</td></tr>\n",
       "\t<tr><td>X597</td><td>G-MSBB-MB000150-BR-MSBB-71791</td></tr>\n",
       "\t<tr><td>X267</td><td>G-MSBB-MB000231-BR-MSBB-71883</td></tr>\n",
       "\t<tr><td>⋮</td><td>⋮</td></tr>\n",
       "\t<tr><td>X136</td><td>G-MSBB-MB000306-BR-MSBB-71967</td></tr>\n",
       "\t<tr><td>X238</td><td>G-MSBB-MB000306-BR-MSBB-71967</td></tr>\n",
       "\t<tr><td>X332</td><td>G-MSBB-MB000306-BR-MSBB-71967</td></tr>\n",
       "\t<tr><td>X387</td><td>G-MSBB-MB000188-BR-MSBB-71834</td></tr>\n",
       "\t<tr><td>X524</td><td>G-MSBB-MB000188-BR-MSBB-71834</td></tr>\n",
       "\t<tr><td>X70 </td><td>G-MSBB-MB000160-BR-MSBB-71801</td></tr>\n",
       "\t<tr><td>X585</td><td>BM-44-5022                   </td></tr>\n",
       "\t<tr><td>X153</td><td>G-MSBB-MB000147-BR-MSBB-71787</td></tr>\n",
       "\t<tr><td>X13 </td><td>G-MSBB-MB000154-BR-MSBB-71795</td></tr>\n",
       "\t<tr><td>X468</td><td>G-MSBB-MB000154-BR-MSBB-71795</td></tr>\n",
       "\t<tr><td>X528</td><td>G-MSBB-MB000154-BR-MSBB-71795</td></tr>\n",
       "\t<tr><td>X28 </td><td>G-MSBB-MB000257-BR-MSBB-71912</td></tr>\n",
       "\t<tr><td>X315</td><td>G-MSBB-MB000257-BR-MSBB-71912</td></tr>\n",
       "\t<tr><td>X398</td><td>G-MSBB-MB000257-BR-MSBB-71912</td></tr>\n",
       "\t<tr><td>X137</td><td>G-MSBB-MB000313-BR-MSBB-71974</td></tr>\n",
       "\t<tr><td>X228</td><td>G-MSBB-MB000313-BR-MSBB-71974</td></tr>\n",
       "\t<tr><td>X295</td><td>G-MSBB-MB000313-BR-MSBB-71974</td></tr>\n",
       "\t<tr><td>X257</td><td>G-MSBB-MB000245-BR-MSBB-71899</td></tr>\n",
       "\t<tr><td>X264</td><td>G-MSBB-MB000245-BR-MSBB-71899</td></tr>\n",
       "\t<tr><td>X58 </td><td>G-MSBB-MB000245-BR-MSBB-71899</td></tr>\n",
       "\t<tr><td>X358</td><td>198112                       </td></tr>\n",
       "\t<tr><td>X470</td><td>198112                       </td></tr>\n",
       "\t<tr><td>X54 </td><td>198112                       </td></tr>\n",
       "\t<tr><td>X12 </td><td>G-MSBB-MB000253-BR-MSBB-71908</td></tr>\n",
       "\t<tr><td>X259</td><td>G-MSBB-MB000253-BR-MSBB-71908</td></tr>\n",
       "\t<tr><td>X458</td><td>G-MSBB-MB000253-BR-MSBB-71908</td></tr>\n",
       "\t<tr><td>X14 </td><td>G-MSBB-MB000310-BR-MSBB-71971</td></tr>\n",
       "\t<tr><td>X291</td><td>G-MSBB-MB000310-BR-MSBB-71971</td></tr>\n",
       "\t<tr><td>X325</td><td>G-MSBB-MB000310-BR-MSBB-71971</td></tr>\n",
       "\t<tr><td>X73 </td><td>G-MSBB-MB000038-BR-MSBB-70635</td></tr>\n",
       "</tbody>\n",
       "</table>\n"
      ],
      "text/latex": [
       "A tibble: 574 × 2\n",
       "\\begin{tabular}{ll}\n",
       " sample\\_id & participant\\_id\\\\\n",
       " <chr> & <chr>\\\\\n",
       "\\hline\n",
       "\t X570 & G-MSBB-MB000040-BR-MSBB-70659\\\\\n",
       "\t X110 & 207822                       \\\\\n",
       "\t X212 & 207822                       \\\\\n",
       "\t X455 & 207822                       \\\\\n",
       "\t X319 & G-MSBB-MB000158-BR-MSBB-71799\\\\\n",
       "\t X175 & G-MSBB-MB000024-BR-MSBB-68658\\\\\n",
       "\t X230 & G-MSBB-MB000169-BR-MSBB-71810\\\\\n",
       "\t X368 & G-MSBB-MB000169-BR-MSBB-71810\\\\\n",
       "\t X91  & G-MSBB-MB000169-BR-MSBB-71810\\\\\n",
       "\t X380 & G-MSBB-MB000135-BR-MSBB-71775\\\\\n",
       "\t X471 & G-MSBB-MB000135-BR-MSBB-71775\\\\\n",
       "\t X57  & G-MSBB-MB000135-BR-MSBB-71775\\\\\n",
       "\t X35  & G-MSBB-MB000282-BR-MSBB-71940\\\\\n",
       "\t X392 & G-MSBB-MB000282-BR-MSBB-71940\\\\\n",
       "\t X536 & G-MSBB-MB000282-BR-MSBB-71940\\\\\n",
       "\t X182 & 214968                       \\\\\n",
       "\t X240 & 214968                       \\\\\n",
       "\t X241 & 214968                       \\\\\n",
       "\t X215 & G-MSBB-MB000273-BR-MSBB-71931\\\\\n",
       "\t X373 & G-MSBB-MB000273-BR-MSBB-71931\\\\\n",
       "\t X77  & G-MSBB-MB000287-BR-MSBB-71945\\\\\n",
       "\t X173 & G-MSBB-MB000076-BR-MSBB-71712\\\\\n",
       "\t X273 & G-MSBB-MB000084-BR-MSBB-71720\\\\\n",
       "\t X511 & G-MSBB-MB000084-BR-MSBB-71720\\\\\n",
       "\t X209 & G-MSBB-MB000233-BR-MSBB-71885\\\\\n",
       "\t X453 & G-MSBB-MB000233-BR-MSBB-71885\\\\\n",
       "\t X432 & G-MSBB-MB000150-BR-MSBB-71791\\\\\n",
       "\t X596 & G-MSBB-MB000150-BR-MSBB-71791\\\\\n",
       "\t X597 & G-MSBB-MB000150-BR-MSBB-71791\\\\\n",
       "\t X267 & G-MSBB-MB000231-BR-MSBB-71883\\\\\n",
       "\t ⋮ & ⋮\\\\\n",
       "\t X136 & G-MSBB-MB000306-BR-MSBB-71967\\\\\n",
       "\t X238 & G-MSBB-MB000306-BR-MSBB-71967\\\\\n",
       "\t X332 & G-MSBB-MB000306-BR-MSBB-71967\\\\\n",
       "\t X387 & G-MSBB-MB000188-BR-MSBB-71834\\\\\n",
       "\t X524 & G-MSBB-MB000188-BR-MSBB-71834\\\\\n",
       "\t X70  & G-MSBB-MB000160-BR-MSBB-71801\\\\\n",
       "\t X585 & BM-44-5022                   \\\\\n",
       "\t X153 & G-MSBB-MB000147-BR-MSBB-71787\\\\\n",
       "\t X13  & G-MSBB-MB000154-BR-MSBB-71795\\\\\n",
       "\t X468 & G-MSBB-MB000154-BR-MSBB-71795\\\\\n",
       "\t X528 & G-MSBB-MB000154-BR-MSBB-71795\\\\\n",
       "\t X28  & G-MSBB-MB000257-BR-MSBB-71912\\\\\n",
       "\t X315 & G-MSBB-MB000257-BR-MSBB-71912\\\\\n",
       "\t X398 & G-MSBB-MB000257-BR-MSBB-71912\\\\\n",
       "\t X137 & G-MSBB-MB000313-BR-MSBB-71974\\\\\n",
       "\t X228 & G-MSBB-MB000313-BR-MSBB-71974\\\\\n",
       "\t X295 & G-MSBB-MB000313-BR-MSBB-71974\\\\\n",
       "\t X257 & G-MSBB-MB000245-BR-MSBB-71899\\\\\n",
       "\t X264 & G-MSBB-MB000245-BR-MSBB-71899\\\\\n",
       "\t X58  & G-MSBB-MB000245-BR-MSBB-71899\\\\\n",
       "\t X358 & 198112                       \\\\\n",
       "\t X470 & 198112                       \\\\\n",
       "\t X54  & 198112                       \\\\\n",
       "\t X12  & G-MSBB-MB000253-BR-MSBB-71908\\\\\n",
       "\t X259 & G-MSBB-MB000253-BR-MSBB-71908\\\\\n",
       "\t X458 & G-MSBB-MB000253-BR-MSBB-71908\\\\\n",
       "\t X14  & G-MSBB-MB000310-BR-MSBB-71971\\\\\n",
       "\t X291 & G-MSBB-MB000310-BR-MSBB-71971\\\\\n",
       "\t X325 & G-MSBB-MB000310-BR-MSBB-71971\\\\\n",
       "\t X73  & G-MSBB-MB000038-BR-MSBB-70635\\\\\n",
       "\\end{tabular}\n"
      ],
      "text/markdown": [
       "\n",
       "A tibble: 574 × 2\n",
       "\n",
       "| sample_id &lt;chr&gt; | participant_id &lt;chr&gt; |\n",
       "|---|---|\n",
       "| X570 | G-MSBB-MB000040-BR-MSBB-70659 |\n",
       "| X110 | 207822                        |\n",
       "| X212 | 207822                        |\n",
       "| X455 | 207822                        |\n",
       "| X319 | G-MSBB-MB000158-BR-MSBB-71799 |\n",
       "| X175 | G-MSBB-MB000024-BR-MSBB-68658 |\n",
       "| X230 | G-MSBB-MB000169-BR-MSBB-71810 |\n",
       "| X368 | G-MSBB-MB000169-BR-MSBB-71810 |\n",
       "| X91  | G-MSBB-MB000169-BR-MSBB-71810 |\n",
       "| X380 | G-MSBB-MB000135-BR-MSBB-71775 |\n",
       "| X471 | G-MSBB-MB000135-BR-MSBB-71775 |\n",
       "| X57  | G-MSBB-MB000135-BR-MSBB-71775 |\n",
       "| X35  | G-MSBB-MB000282-BR-MSBB-71940 |\n",
       "| X392 | G-MSBB-MB000282-BR-MSBB-71940 |\n",
       "| X536 | G-MSBB-MB000282-BR-MSBB-71940 |\n",
       "| X182 | 214968                        |\n",
       "| X240 | 214968                        |\n",
       "| X241 | 214968                        |\n",
       "| X215 | G-MSBB-MB000273-BR-MSBB-71931 |\n",
       "| X373 | G-MSBB-MB000273-BR-MSBB-71931 |\n",
       "| X77  | G-MSBB-MB000287-BR-MSBB-71945 |\n",
       "| X173 | G-MSBB-MB000076-BR-MSBB-71712 |\n",
       "| X273 | G-MSBB-MB000084-BR-MSBB-71720 |\n",
       "| X511 | G-MSBB-MB000084-BR-MSBB-71720 |\n",
       "| X209 | G-MSBB-MB000233-BR-MSBB-71885 |\n",
       "| X453 | G-MSBB-MB000233-BR-MSBB-71885 |\n",
       "| X432 | G-MSBB-MB000150-BR-MSBB-71791 |\n",
       "| X596 | G-MSBB-MB000150-BR-MSBB-71791 |\n",
       "| X597 | G-MSBB-MB000150-BR-MSBB-71791 |\n",
       "| X267 | G-MSBB-MB000231-BR-MSBB-71883 |\n",
       "| ⋮ | ⋮ |\n",
       "| X136 | G-MSBB-MB000306-BR-MSBB-71967 |\n",
       "| X238 | G-MSBB-MB000306-BR-MSBB-71967 |\n",
       "| X332 | G-MSBB-MB000306-BR-MSBB-71967 |\n",
       "| X387 | G-MSBB-MB000188-BR-MSBB-71834 |\n",
       "| X524 | G-MSBB-MB000188-BR-MSBB-71834 |\n",
       "| X70  | G-MSBB-MB000160-BR-MSBB-71801 |\n",
       "| X585 | BM-44-5022                    |\n",
       "| X153 | G-MSBB-MB000147-BR-MSBB-71787 |\n",
       "| X13  | G-MSBB-MB000154-BR-MSBB-71795 |\n",
       "| X468 | G-MSBB-MB000154-BR-MSBB-71795 |\n",
       "| X528 | G-MSBB-MB000154-BR-MSBB-71795 |\n",
       "| X28  | G-MSBB-MB000257-BR-MSBB-71912 |\n",
       "| X315 | G-MSBB-MB000257-BR-MSBB-71912 |\n",
       "| X398 | G-MSBB-MB000257-BR-MSBB-71912 |\n",
       "| X137 | G-MSBB-MB000313-BR-MSBB-71974 |\n",
       "| X228 | G-MSBB-MB000313-BR-MSBB-71974 |\n",
       "| X295 | G-MSBB-MB000313-BR-MSBB-71974 |\n",
       "| X257 | G-MSBB-MB000245-BR-MSBB-71899 |\n",
       "| X264 | G-MSBB-MB000245-BR-MSBB-71899 |\n",
       "| X58  | G-MSBB-MB000245-BR-MSBB-71899 |\n",
       "| X358 | 198112                        |\n",
       "| X470 | 198112                        |\n",
       "| X54  | 198112                        |\n",
       "| X12  | G-MSBB-MB000253-BR-MSBB-71908 |\n",
       "| X259 | G-MSBB-MB000253-BR-MSBB-71908 |\n",
       "| X458 | G-MSBB-MB000253-BR-MSBB-71908 |\n",
       "| X14  | G-MSBB-MB000310-BR-MSBB-71971 |\n",
       "| X291 | G-MSBB-MB000310-BR-MSBB-71971 |\n",
       "| X325 | G-MSBB-MB000310-BR-MSBB-71971 |\n",
       "| X73  | G-MSBB-MB000038-BR-MSBB-70635 |\n",
       "\n"
      ],
      "text/plain": [
       "    sample_id participant_id               \n",
       "1   X570      G-MSBB-MB000040-BR-MSBB-70659\n",
       "2   X110      207822                       \n",
       "3   X212      207822                       \n",
       "4   X455      207822                       \n",
       "5   X319      G-MSBB-MB000158-BR-MSBB-71799\n",
       "6   X175      G-MSBB-MB000024-BR-MSBB-68658\n",
       "7   X230      G-MSBB-MB000169-BR-MSBB-71810\n",
       "8   X368      G-MSBB-MB000169-BR-MSBB-71810\n",
       "9   X91       G-MSBB-MB000169-BR-MSBB-71810\n",
       "10  X380      G-MSBB-MB000135-BR-MSBB-71775\n",
       "11  X471      G-MSBB-MB000135-BR-MSBB-71775\n",
       "12  X57       G-MSBB-MB000135-BR-MSBB-71775\n",
       "13  X35       G-MSBB-MB000282-BR-MSBB-71940\n",
       "14  X392      G-MSBB-MB000282-BR-MSBB-71940\n",
       "15  X536      G-MSBB-MB000282-BR-MSBB-71940\n",
       "16  X182      214968                       \n",
       "17  X240      214968                       \n",
       "18  X241      214968                       \n",
       "19  X215      G-MSBB-MB000273-BR-MSBB-71931\n",
       "20  X373      G-MSBB-MB000273-BR-MSBB-71931\n",
       "21  X77       G-MSBB-MB000287-BR-MSBB-71945\n",
       "22  X173      G-MSBB-MB000076-BR-MSBB-71712\n",
       "23  X273      G-MSBB-MB000084-BR-MSBB-71720\n",
       "24  X511      G-MSBB-MB000084-BR-MSBB-71720\n",
       "25  X209      G-MSBB-MB000233-BR-MSBB-71885\n",
       "26  X453      G-MSBB-MB000233-BR-MSBB-71885\n",
       "27  X432      G-MSBB-MB000150-BR-MSBB-71791\n",
       "28  X596      G-MSBB-MB000150-BR-MSBB-71791\n",
       "29  X597      G-MSBB-MB000150-BR-MSBB-71791\n",
       "30  X267      G-MSBB-MB000231-BR-MSBB-71883\n",
       "⋮   ⋮         ⋮                            \n",
       "545 X136      G-MSBB-MB000306-BR-MSBB-71967\n",
       "546 X238      G-MSBB-MB000306-BR-MSBB-71967\n",
       "547 X332      G-MSBB-MB000306-BR-MSBB-71967\n",
       "548 X387      G-MSBB-MB000188-BR-MSBB-71834\n",
       "549 X524      G-MSBB-MB000188-BR-MSBB-71834\n",
       "550 X70       G-MSBB-MB000160-BR-MSBB-71801\n",
       "551 X585      BM-44-5022                   \n",
       "552 X153      G-MSBB-MB000147-BR-MSBB-71787\n",
       "553 X13       G-MSBB-MB000154-BR-MSBB-71795\n",
       "554 X468      G-MSBB-MB000154-BR-MSBB-71795\n",
       "555 X528      G-MSBB-MB000154-BR-MSBB-71795\n",
       "556 X28       G-MSBB-MB000257-BR-MSBB-71912\n",
       "557 X315      G-MSBB-MB000257-BR-MSBB-71912\n",
       "558 X398      G-MSBB-MB000257-BR-MSBB-71912\n",
       "559 X137      G-MSBB-MB000313-BR-MSBB-71974\n",
       "560 X228      G-MSBB-MB000313-BR-MSBB-71974\n",
       "561 X295      G-MSBB-MB000313-BR-MSBB-71974\n",
       "562 X257      G-MSBB-MB000245-BR-MSBB-71899\n",
       "563 X264      G-MSBB-MB000245-BR-MSBB-71899\n",
       "564 X58       G-MSBB-MB000245-BR-MSBB-71899\n",
       "565 X358      198112                       \n",
       "566 X470      198112                       \n",
       "567 X54       198112                       \n",
       "568 X12       G-MSBB-MB000253-BR-MSBB-71908\n",
       "569 X259      G-MSBB-MB000253-BR-MSBB-71908\n",
       "570 X458      G-MSBB-MB000253-BR-MSBB-71908\n",
       "571 X14       G-MSBB-MB000310-BR-MSBB-71971\n",
       "572 X291      G-MSBB-MB000310-BR-MSBB-71971\n",
       "573 X325      G-MSBB-MB000310-BR-MSBB-71971\n",
       "574 X73       G-MSBB-MB000038-BR-MSBB-70635"
      ]
     },
     "metadata": {},
     "output_type": "display_data"
    }
   ],
   "source": [
    "e1%>%select(sample_id = order, participant_id = primary_genotype)"
   ]
  },
  {
   "cell_type": "code",
   "execution_count": 54,
   "id": "685650a1-54b5-4456-9a8f-ab044af10683",
   "metadata": {},
   "outputs": [],
   "source": [
    "rbind(e1%>%select(sample_id = order, participant_id = primary_genotype),e%>%select(sample_id = order, participant_id = ADSP_WGS))%>%filter(participant_id  %in%    c(e%>%filter(ADSP_WGS %in%  ADSP$X1)%>%pull(ADSP_WGS)%>%unique,e1%>%filter(primary_genotype %in% psychAD$X1)%>%pull(primary_genotype)%>%unique))%>%write_delim(\"../input/snmulti_QTL_sample_participant_lookup\",\"\\t\")"
   ]
  },
  {
   "cell_type": "code",
   "execution_count": null,
   "id": "d2b2661c-5d37-456d-b58f-d676a6044bda",
   "metadata": {},
   "outputs": [],
   "source": []
  },
  {
   "cell_type": "code",
   "execution_count": 35,
   "id": "fd8aeb57-566c-45ed-bcbe-07af953cfcad",
   "metadata": {},
   "outputs": [
    {
     "ename": "ERROR",
     "evalue": "Error in rbind(deparse.level, ...): numbers of columns of arguments do not match\n",
     "output_type": "error",
     "traceback": [
      "Error in rbind(deparse.level, ...): numbers of columns of arguments do not match\nTraceback:\n",
      "1. rbind(e1, e)",
      "2. rbind(deparse.level, ...)",
      "3. stop(\"numbers of columns of arguments do not match\")"
     ]
    }
   ],
   "source": [
    "rbind(e1,e)"
   ]
  },
  {
   "cell_type": "code",
   "execution_count": 38,
   "id": "35451577-b0ff-495e-b249-c83af9e76ab8",
   "metadata": {},
   "outputs": [],
   "source": [
    "a%>%count(primary_genotype)%>%mutate(FID = 1)%>%select(FID , IID = primary_genotype)%>%write_delim(\"../input/snmulti_QTL_sample_list\",\"\\t\")"
   ]
  },
  {
   "cell_type": "code",
   "execution_count": null,
   "id": "17521ecd-24c2-4ec9-9635-700c0f829aa2",
   "metadata": {},
   "outputs": [],
   "source": []
  },
  {
   "cell_type": "code",
   "execution_count": 36,
   "id": "ec0b6235-31f7-4ebd-a2ca-d949a593d66f",
   "metadata": {},
   "outputs": [],
   "source": [
    "a%>%count(order,primary_genotype)%>%select(sample_name = order, participant_name =  primary_genotype )%>%write_delim(\"../input/snmulti_QTL_sample_participant_lookup\",\"\\t\")"
   ]
  },
  {
   "cell_type": "code",
   "execution_count": null,
   "id": "153792d0-140f-4983-8d59-27407355b1cd",
   "metadata": {},
   "outputs": [],
   "source": []
  }
 ],
 "metadata": {
  "kernelspec": {
   "display_name": "Singularity StephensLab R tools",
   "language": "R",
   "name": "stephen_r"
  },
  "language_info": {
   "codemirror_mode": "r",
   "file_extension": ".r",
   "mimetype": "text/x-r-source",
   "name": "R",
   "pygments_lexer": "r",
   "version": "4.2.3"
  }
 },
 "nbformat": 4,
 "nbformat_minor": 5
}
